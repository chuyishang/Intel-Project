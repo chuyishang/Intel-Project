{
 "cells": [
  {
   "cell_type": "code",
   "execution_count": 1,
   "metadata": {},
   "outputs": [],
   "source": [
    "import time\n",
    "import requests\n",
    "import pandas as pd\n",
    "import numpy as np\n",
    "import threading"
   ]
  },
  {
   "cell_type": "code",
   "execution_count": 2,
   "metadata": {},
   "outputs": [],
   "source": [
    "api_key = '2CCS30TFYFGYBXKB'\n",
    "top_customers = {'TSMC':['AAPL', 'AMD', 'QCOM', 'AVGO', 'NVDA', 'SONY', 'MRVL', 'STM', 'ADI', 'INTC'],\n",
    "                'SMIC':['QCOM', 'AVGO', 'TXN'],\n",
    "                'UMC':['QCOM', 'AMD'],\n",
    "                'GF':['QCOM', 'NXPI', 'QRVO', 'CRUS', 'AMD', 'SWKS', 'AVGO']\n",
    "            }\n",
    "call_count = 0"
   ]
  },
  {
   "cell_type": "code",
   "execution_count": 3,
   "metadata": {},
   "outputs": [],
   "source": [
    "def get_revenue(ticker):\n",
    "    global call_count\n",
    "    if call_count == 5:\n",
    "        time.sleep(60)\n",
    "        call_count = 0\n",
    "    url = f'https://www.alphavantage.co/query?function=INCOME_STATEMENT&symbol={ticker}&apikey={api_key}'\n",
    "    call_count += 1\n",
    "    r = requests.get(url)\n",
    "    json_data = r.json()\n",
    "    if json_data:\n",
    "        quarter_data = pd.DataFrame.from_dict(json_data['quarterlyReports'])\n",
    "        revenue_df = quarter_data[[\"fiscalDateEnding\", \"reportedCurrency\", \"totalRevenue\"]]\n",
    "        revenue_df.insert(0, 'quarter', [int(s.split(\"-\")[1]) // 3 for s in revenue_df[\"fiscalDateEnding\"]])\n",
    "        revenue_df.insert(0, 'year', [int(s.split(\"-\")[0]) for s in revenue_df[\"fiscalDateEnding\"]])\n",
    "        revenue_df.drop([\"fiscalDateEnding\"], axis=1, inplace=True)\n",
    "        if min(revenue_df['quarter']) == 0:\n",
    "            revenue_df['quarter'] = [q + 1 for q in revenue_df['quarter']]\n",
    "        return revenue_df\n",
    "    return pd.DataFrame()"
   ]
  },
  {
   "cell_type": "code",
   "execution_count": 8,
   "metadata": {},
   "outputs": [
    {
     "name": "stderr",
     "output_type": "stream",
     "text": [
      "/usr/local/lib/python3.7/site-packages/pandas/core/frame.py:4913: SettingWithCopyWarning: \n",
      "A value is trying to be set on a copy of a slice from a DataFrame\n",
      "\n",
      "See the caveats in the documentation: https://pandas.pydata.org/pandas-docs/stable/user_guide/indexing.html#returning-a-view-versus-a-copy\n",
      "  errors=errors,\n"
     ]
    }
   ],
   "source": [
    "UMC = get_revenue('UMC')"
   ]
  },
  {
   "cell_type": "code",
   "execution_count": null,
   "metadata": {},
   "outputs": [],
   "source": [
    "AAPL = get_revenue('AAPL')"
   ]
  },
  {
   "cell_type": "code",
   "execution_count": 24,
   "metadata": {},
   "outputs": [
    {
     "name": "stderr",
     "output_type": "stream",
     "text": [
      "/usr/local/lib/python3.7/site-packages/pandas/core/frame.py:4913: SettingWithCopyWarning: \n",
      "A value is trying to be set on a copy of a slice from a DataFrame\n",
      "\n",
      "See the caveats in the documentation: https://pandas.pydata.org/pandas-docs/stable/user_guide/indexing.html#returning-a-view-versus-a-copy\n",
      "  errors=errors,\n"
     ]
    }
   ],
   "source": [
    "QCOM = get_revenue('QCOM')"
   ]
  },
  {
   "cell_type": "code",
   "execution_count": 10,
   "metadata": {},
   "outputs": [
    {
     "data": {
      "text/html": [
       "<div>\n",
       "<style scoped>\n",
       "    .dataframe tbody tr th:only-of-type {\n",
       "        vertical-align: middle;\n",
       "    }\n",
       "\n",
       "    .dataframe tbody tr th {\n",
       "        vertical-align: top;\n",
       "    }\n",
       "\n",
       "    .dataframe thead th {\n",
       "        text-align: right;\n",
       "    }\n",
       "</style>\n",
       "<table border=\"1\" class=\"dataframe\">\n",
       "  <thead>\n",
       "    <tr style=\"text-align: right;\">\n",
       "      <th></th>\n",
       "      <th>year</th>\n",
       "      <th>quarter</th>\n",
       "      <th>reportedCurrency</th>\n",
       "      <th>totalRevenue</th>\n",
       "    </tr>\n",
       "  </thead>\n",
       "  <tbody>\n",
       "    <tr>\n",
       "      <th>0</th>\n",
       "      <td>2021</td>\n",
       "      <td>4</td>\n",
       "      <td>TWD</td>\n",
       "      <td>59099588000</td>\n",
       "    </tr>\n",
       "    <tr>\n",
       "      <th>1</th>\n",
       "      <td>2021</td>\n",
       "      <td>3</td>\n",
       "      <td>TWD</td>\n",
       "      <td>55906677000</td>\n",
       "    </tr>\n",
       "    <tr>\n",
       "      <th>2</th>\n",
       "      <td>2021</td>\n",
       "      <td>2</td>\n",
       "      <td>TWD</td>\n",
       "      <td>50907741000</td>\n",
       "    </tr>\n",
       "    <tr>\n",
       "      <th>3</th>\n",
       "      <td>2021</td>\n",
       "      <td>1</td>\n",
       "      <td>TWD</td>\n",
       "      <td>47097012000</td>\n",
       "    </tr>\n",
       "    <tr>\n",
       "      <th>4</th>\n",
       "      <td>2020</td>\n",
       "      <td>4</td>\n",
       "      <td>TWD</td>\n",
       "      <td>45296353000</td>\n",
       "    </tr>\n",
       "    <tr>\n",
       "      <th>5</th>\n",
       "      <td>2020</td>\n",
       "      <td>3</td>\n",
       "      <td>TWD</td>\n",
       "      <td>44870454000</td>\n",
       "    </tr>\n",
       "    <tr>\n",
       "      <th>6</th>\n",
       "      <td>2020</td>\n",
       "      <td>2</td>\n",
       "      <td>TWD</td>\n",
       "      <td>44386260000</td>\n",
       "    </tr>\n",
       "    <tr>\n",
       "      <th>7</th>\n",
       "      <td>2020</td>\n",
       "      <td>1</td>\n",
       "      <td>TWD</td>\n",
       "      <td>42267847000</td>\n",
       "    </tr>\n",
       "    <tr>\n",
       "      <th>8</th>\n",
       "      <td>2019</td>\n",
       "      <td>4</td>\n",
       "      <td>TWD</td>\n",
       "      <td>41849058000</td>\n",
       "    </tr>\n",
       "    <tr>\n",
       "      <th>9</th>\n",
       "      <td>2019</td>\n",
       "      <td>3</td>\n",
       "      <td>TWD</td>\n",
       "      <td>37738440000</td>\n",
       "    </tr>\n",
       "    <tr>\n",
       "      <th>10</th>\n",
       "      <td>2019</td>\n",
       "      <td>2</td>\n",
       "      <td>TWD</td>\n",
       "      <td>36031184000</td>\n",
       "    </tr>\n",
       "    <tr>\n",
       "      <th>11</th>\n",
       "      <td>2019</td>\n",
       "      <td>1</td>\n",
       "      <td>TWD</td>\n",
       "      <td>32582959000</td>\n",
       "    </tr>\n",
       "    <tr>\n",
       "      <th>12</th>\n",
       "      <td>2018</td>\n",
       "      <td>4</td>\n",
       "      <td>TWD</td>\n",
       "      <td>35517201000</td>\n",
       "    </tr>\n",
       "    <tr>\n",
       "      <th>13</th>\n",
       "      <td>2018</td>\n",
       "      <td>3</td>\n",
       "      <td>TWD</td>\n",
       "      <td>39386656000</td>\n",
       "    </tr>\n",
       "    <tr>\n",
       "      <th>14</th>\n",
       "      <td>2018</td>\n",
       "      <td>2</td>\n",
       "      <td>TWD</td>\n",
       "      <td>1271966376.93</td>\n",
       "    </tr>\n",
       "    <tr>\n",
       "      <th>15</th>\n",
       "      <td>2018</td>\n",
       "      <td>1</td>\n",
       "      <td>TWD</td>\n",
       "      <td>37497137000</td>\n",
       "    </tr>\n",
       "    <tr>\n",
       "      <th>16</th>\n",
       "      <td>2017</td>\n",
       "      <td>4</td>\n",
       "      <td>TWD</td>\n",
       "      <td>36630674000</td>\n",
       "    </tr>\n",
       "    <tr>\n",
       "      <th>17</th>\n",
       "      <td>2017</td>\n",
       "      <td>3</td>\n",
       "      <td>TWD</td>\n",
       "      <td>37698201000</td>\n",
       "    </tr>\n",
       "    <tr>\n",
       "      <th>18</th>\n",
       "      <td>2017</td>\n",
       "      <td>2</td>\n",
       "      <td>TWD</td>\n",
       "      <td>1235612000</td>\n",
       "    </tr>\n",
       "    <tr>\n",
       "      <th>19</th>\n",
       "      <td>2017</td>\n",
       "      <td>1</td>\n",
       "      <td>TWD</td>\n",
       "      <td>37417950000</td>\n",
       "    </tr>\n",
       "    <tr>\n",
       "      <th>20</th>\n",
       "      <td>2016</td>\n",
       "      <td>4</td>\n",
       "      <td>TWD</td>\n",
       "      <td>38305939000</td>\n",
       "    </tr>\n",
       "  </tbody>\n",
       "</table>\n",
       "</div>"
      ],
      "text/plain": [
       "    year  quarter reportedCurrency   totalRevenue\n",
       "0   2021        4              TWD    59099588000\n",
       "1   2021        3              TWD    55906677000\n",
       "2   2021        2              TWD    50907741000\n",
       "3   2021        1              TWD    47097012000\n",
       "4   2020        4              TWD    45296353000\n",
       "5   2020        3              TWD    44870454000\n",
       "6   2020        2              TWD    44386260000\n",
       "7   2020        1              TWD    42267847000\n",
       "8   2019        4              TWD    41849058000\n",
       "9   2019        3              TWD    37738440000\n",
       "10  2019        2              TWD    36031184000\n",
       "11  2019        1              TWD    32582959000\n",
       "12  2018        4              TWD    35517201000\n",
       "13  2018        3              TWD    39386656000\n",
       "14  2018        2              TWD  1271966376.93\n",
       "15  2018        1              TWD    37497137000\n",
       "16  2017        4              TWD    36630674000\n",
       "17  2017        3              TWD    37698201000\n",
       "18  2017        2              TWD     1235612000\n",
       "19  2017        1              TWD    37417950000\n",
       "20  2016        4              TWD    38305939000"
      ]
     },
     "execution_count": 10,
     "metadata": {},
     "output_type": "execute_result"
    }
   ],
   "source": [
    "UMC #Someone probably converted 2017Q2 and 2018Q2 to USD"
   ]
  },
  {
   "cell_type": "code",
   "execution_count": 31,
   "metadata": {},
   "outputs": [],
   "source": [
    "# Use the converter class here, I was just lazy and brought the numbers over directly\n",
    "UMC.at[14, 'totalRevenue'] = float(UMC.at[14, 'totalRevenue']) * 29.623\n",
    "UMC.at[18, 'totalRevenue'] = float(UMC.at[18, 'totalRevenue']) * 30.157"
   ]
  },
  {
   "cell_type": "code",
   "execution_count": 46,
   "metadata": {},
   "outputs": [],
   "source": [
    "# Reverse the df\n",
    "UMC = UMC.iloc[::-1]\n",
    "AAPL = AAPL.iloc[::-1]\n",
    "QCOM = QCOM.iloc[::-1]\n",
    "\n",
    "# Difference the data\n",
    "UMC[\"revChange\"] = pd.to_numeric(UMC.totalRevenue).diff()\n",
    "UMC[\"pctRevChange\"] = pd.to_numeric(UMC.totalRevenue).pct_change()\n",
    "AAPL[\"revChange\"] = pd.to_numeric(AAPL.totalRevenue).diff()\n",
    "AAPL[\"pctRevChange\"] = pd.to_numeric(AAPL.totalRevenue).pct_change()\n",
    "QCOM[\"revChange\"] = pd.to_numeric(QCOM.totalRevenue).diff()\n",
    "QCOM[\"pctRevChange\"] = pd.to_numeric(QCOM.totalRevenue).pct_change()"
   ]
  },
  {
   "cell_type": "code",
   "execution_count": 55,
   "metadata": {},
   "outputs": [
    {
     "data": {
      "text/html": [
       "<div>\n",
       "<style scoped>\n",
       "    .dataframe tbody tr th:only-of-type {\n",
       "        vertical-align: middle;\n",
       "    }\n",
       "\n",
       "    .dataframe tbody tr th {\n",
       "        vertical-align: top;\n",
       "    }\n",
       "\n",
       "    .dataframe thead th {\n",
       "        text-align: right;\n",
       "    }\n",
       "</style>\n",
       "<table border=\"1\" class=\"dataframe\">\n",
       "  <thead>\n",
       "    <tr style=\"text-align: right;\">\n",
       "      <th></th>\n",
       "      <th>year</th>\n",
       "      <th>quarter</th>\n",
       "      <th>reportedCurrency</th>\n",
       "      <th>totalRevenue</th>\n",
       "      <th>revChange</th>\n",
       "      <th>pctRevChange</th>\n",
       "    </tr>\n",
       "  </thead>\n",
       "  <tbody>\n",
       "    <tr>\n",
       "      <th>19</th>\n",
       "      <td>2017</td>\n",
       "      <td>1</td>\n",
       "      <td>USD</td>\n",
       "      <td>5016000000</td>\n",
       "      <td>NaN</td>\n",
       "      <td>NaN</td>\n",
       "    </tr>\n",
       "    <tr>\n",
       "      <th>18</th>\n",
       "      <td>2017</td>\n",
       "      <td>2</td>\n",
       "      <td>USD</td>\n",
       "      <td>5356000000</td>\n",
       "      <td>340000000.0</td>\n",
       "      <td>0.067783</td>\n",
       "    </tr>\n",
       "    <tr>\n",
       "      <th>17</th>\n",
       "      <td>2017</td>\n",
       "      <td>3</td>\n",
       "      <td>USD</td>\n",
       "      <td>5888000000</td>\n",
       "      <td>532000000.0</td>\n",
       "      <td>0.099328</td>\n",
       "    </tr>\n",
       "    <tr>\n",
       "      <th>16</th>\n",
       "      <td>2017</td>\n",
       "      <td>4</td>\n",
       "      <td>USD</td>\n",
       "      <td>6035000000</td>\n",
       "      <td>147000000.0</td>\n",
       "      <td>0.024966</td>\n",
       "    </tr>\n",
       "    <tr>\n",
       "      <th>15</th>\n",
       "      <td>2018</td>\n",
       "      <td>1</td>\n",
       "      <td>USD</td>\n",
       "      <td>5220000000</td>\n",
       "      <td>-815000000.0</td>\n",
       "      <td>-0.135046</td>\n",
       "    </tr>\n",
       "  </tbody>\n",
       "</table>\n",
       "</div>"
      ],
      "text/plain": [
       "    year  quarter reportedCurrency totalRevenue    revChange  pctRevChange\n",
       "19  2017        1              USD   5016000000          NaN           NaN\n",
       "18  2017        2              USD   5356000000  340000000.0      0.067783\n",
       "17  2017        3              USD   5888000000  532000000.0      0.099328\n",
       "16  2017        4              USD   6035000000  147000000.0      0.024966\n",
       "15  2018        1              USD   5220000000 -815000000.0     -0.135046"
      ]
     },
     "execution_count": 55,
     "metadata": {},
     "output_type": "execute_result"
    }
   ],
   "source": [
    "QCOM.head()"
   ]
  },
  {
   "cell_type": "code",
   "execution_count": 56,
   "metadata": {},
   "outputs": [
    {
     "data": {
      "text/html": [
       "<div>\n",
       "<style scoped>\n",
       "    .dataframe tbody tr th:only-of-type {\n",
       "        vertical-align: middle;\n",
       "    }\n",
       "\n",
       "    .dataframe tbody tr th {\n",
       "        vertical-align: top;\n",
       "    }\n",
       "\n",
       "    .dataframe thead th {\n",
       "        text-align: right;\n",
       "    }\n",
       "</style>\n",
       "<table border=\"1\" class=\"dataframe\">\n",
       "  <thead>\n",
       "    <tr style=\"text-align: right;\">\n",
       "      <th></th>\n",
       "      <th>year</th>\n",
       "      <th>quarter</th>\n",
       "      <th>reportedCurrency</th>\n",
       "      <th>totalRevenue</th>\n",
       "      <th>revChange</th>\n",
       "      <th>pctRevChange</th>\n",
       "    </tr>\n",
       "  </thead>\n",
       "  <tbody>\n",
       "    <tr>\n",
       "      <th>20</th>\n",
       "      <td>2016</td>\n",
       "      <td>4</td>\n",
       "      <td>TWD</td>\n",
       "      <td>38305939000</td>\n",
       "      <td>NaN</td>\n",
       "      <td>NaN</td>\n",
       "    </tr>\n",
       "    <tr>\n",
       "      <th>19</th>\n",
       "      <td>2017</td>\n",
       "      <td>1</td>\n",
       "      <td>TWD</td>\n",
       "      <td>37417950000</td>\n",
       "      <td>-8.879890e+08</td>\n",
       "      <td>-0.023181</td>\n",
       "    </tr>\n",
       "    <tr>\n",
       "      <th>18</th>\n",
       "      <td>2017</td>\n",
       "      <td>2</td>\n",
       "      <td>TWD</td>\n",
       "      <td>37262351084.0</td>\n",
       "      <td>-1.555989e+08</td>\n",
       "      <td>-0.004158</td>\n",
       "    </tr>\n",
       "    <tr>\n",
       "      <th>17</th>\n",
       "      <td>2017</td>\n",
       "      <td>3</td>\n",
       "      <td>TWD</td>\n",
       "      <td>37698201000</td>\n",
       "      <td>4.358499e+08</td>\n",
       "      <td>0.011697</td>\n",
       "    </tr>\n",
       "    <tr>\n",
       "      <th>16</th>\n",
       "      <td>2017</td>\n",
       "      <td>4</td>\n",
       "      <td>TWD</td>\n",
       "      <td>36630674000</td>\n",
       "      <td>-1.067527e+09</td>\n",
       "      <td>-0.028318</td>\n",
       "    </tr>\n",
       "  </tbody>\n",
       "</table>\n",
       "</div>"
      ],
      "text/plain": [
       "    year  quarter reportedCurrency   totalRevenue     revChange  pctRevChange\n",
       "20  2016        4              TWD    38305939000           NaN           NaN\n",
       "19  2017        1              TWD    37417950000 -8.879890e+08     -0.023181\n",
       "18  2017        2              TWD  37262351084.0 -1.555989e+08     -0.004158\n",
       "17  2017        3              TWD    37698201000  4.358499e+08      0.011697\n",
       "16  2017        4              TWD    36630674000 -1.067527e+09     -0.028318"
      ]
     },
     "execution_count": 56,
     "metadata": {},
     "output_type": "execute_result"
    }
   ],
   "source": [
    "UMC.head()"
   ]
  },
  {
   "cell_type": "code",
   "execution_count": 49,
   "metadata": {},
   "outputs": [
    {
     "data": {
      "text/plain": [
       "<matplotlib.axes._subplots.AxesSubplot at 0x12a16d990>"
      ]
     },
     "execution_count": 49,
     "metadata": {},
     "output_type": "execute_result"
    },
    {
     "data": {
      "image/png": "[encoded data removed]",
      "text/plain": [
       "<Figure size 432x288 with 1 Axes>"
      ]
     },
     "metadata": {
      "needs_background": "light"
     },
     "output_type": "display_data"
    }
   ],
   "source": [
    "UMC.pctRevChange.plot()"
   ]
  },
  {
   "cell_type": "code",
   "execution_count": 50,
   "metadata": {},
   "outputs": [
    {
     "data": {
      "text/plain": [
       "<matplotlib.axes._subplots.AxesSubplot at 0x12a16d490>"
      ]
     },
     "execution_count": 50,
     "metadata": {},
     "output_type": "execute_result"
    },
    {
     "data": {
      "image/png": "[encoded data removed]",
      "text/plain": [
       "<Figure size 432x288 with 1 Axes>"
      ]
     },
     "metadata": {
      "needs_background": "light"
     },
     "output_type": "display_data"
    }
   ],
   "source": [
    "AAPL.pctRevChange.plot()"
   ]
  },
  {
   "cell_type": "code",
   "execution_count": 51,
   "metadata": {},
   "outputs": [
    {
     "data": {
      "text/plain": [
       "<matplotlib.axes._subplots.AxesSubplot at 0x12a255090>"
      ]
     },
     "execution_count": 51,
     "metadata": {},
     "output_type": "execute_result"
    },
    {
     "data": {
      "image/png": "[encoded data removed]",
      "text/plain": [
       "<Figure size 432x288 with 1 Axes>"
      ]
     },
     "metadata": {
      "needs_background": "light"
     },
     "output_type": "display_data"
    }
   ],
   "source": [
    "QCOM.pctRevChange.plot()"
   ]
  },
  {
   "cell_type": "code",
   "execution_count": 65,
   "metadata": {},
   "outputs": [],
   "source": [
    "import numpy as np\n",
    "from sklearn.linear_model import LinearRegression\n",
    "import matplotlib.pyplot as plt"
   ]
  },
  {
   "cell_type": "code",
   "execution_count": 57,
   "metadata": {},
   "outputs": [],
   "source": [
    "x = QCOM.pctRevChange[1:].to_numpy().reshape(-1,1)\n",
    "y = UMC.pctRevChange[2:].to_numpy()"
   ]
  },
  {
   "cell_type": "code",
   "execution_count": 61,
   "metadata": {},
   "outputs": [],
   "source": [
    "model = LinearRegression()\n",
    "reg = model.fit(x,y)"
   ]
  },
  {
   "cell_type": "code",
   "execution_count": 59,
   "metadata": {},
   "outputs": [],
   "source": [
    "r_sq = model.score(x, y)"
   ]
  },
  {
   "cell_type": "code",
   "execution_count": 62,
   "metadata": {},
   "outputs": [
    {
     "data": {
      "text/plain": [
       "array([ 0.02536762,  0.02699925,  0.02315295,  0.01487648,  0.02539905,\n",
       "        0.02372578,  0.01348261,  0.02335713,  0.07017   , -0.00401926,\n",
       "        0.02468741,  0.02327772,  0.01865859,  0.05836343,  0.02117368,\n",
       "        0.0199773 ,  0.02267641,  0.03005019,  0.02944626])"
      ]
     },
     "execution_count": 62,
     "metadata": {},
     "output_type": "execute_result"
    }
   ],
   "source": [
    "reg.predict(x)"
   ]
  },
  {
   "cell_type": "code",
   "execution_count": 68,
   "metadata": {},
   "outputs": [
    {
     "data": {
      "image/png": "[encoded data removed]",
      "text/plain": [
       "<Figure size 432x288 with 1 Axes>"
      ]
     },
     "metadata": {
      "needs_background": "light"
     },
     "output_type": "display_data"
    }
   ],
   "source": [
    "plt.plot(list(range(len(x))), reg.predict(x), label = 'Predicted UMC Rev')\n",
    "plt.plot(list(range(len(x))), y, label = 'Actual UMC Rev')\n",
    "plt.legend()\n",
    "plt.show()"
   ]
  },
  {
   "cell_type": "code",
   "execution_count": null,
   "metadata": {},
   "outputs": [],
   "source": []
  }
 ],
 "metadata": {
  "kernelspec": {
   "display_name": "Python 3",
   "language": "python",
   "name": "python3"
  },
  "language_info": {
   "codemirror_mode": {
    "name": "ipython",
    "version": 3
   },
   "file_extension": ".py",
   "mimetype": "text/x-python",
   "name": "python",
   "nbconvert_exporter": "python",
   "pygments_lexer": "ipython3",
   "version": "3.7.7"
  }
 },
 "nbformat": 4,
 "nbformat_minor": 4
}
