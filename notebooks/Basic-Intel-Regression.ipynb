{
 "cells": [
  {
   "cell_type": "code",
   "execution_count": 157,
   "metadata": {},
   "outputs": [],
   "source": [
    "import time\n",
    "import requests\n",
    "import pandas as pd\n",
    "import numpy as np\n",
    "import threading\n",
    "import matplotlib\n",
    "import sklearn\n",
    "import os\n",
    "import sys"
   ]
  },
  {
   "cell_type": "code",
   "execution_count": 158,
   "metadata": {},
   "outputs": [],
   "source": [
    "os.chdir(\"..\")"
   ]
  },
  {
   "cell_type": "code",
   "execution_count": 159,
   "metadata": {},
   "outputs": [],
   "source": [
    "import converter\n",
    "import stocks"
   ]
  },
  {
   "cell_type": "code",
   "execution_count": 169,
   "metadata": {},
   "outputs": [
    {
     "name": "stderr",
     "output_type": "stream",
     "text": [
      "/Users/benjaminliang/Documents/Intel-Project/stocks.py:36: SettingWithCopyWarning: \n",
      "A value is trying to be set on a copy of a slice from a DataFrame\n",
      "\n",
      "See the caveats in the documentation: https://pandas.pydata.org/pandas-docs/stable/user_guide/indexing.html#returning-a-view-versus-a-copy\n",
      "  revenue_df.drop([\"fiscalDateEnding\"], axis=1, inplace=True)\n",
      "/Users/benjaminliang/Documents/Intel-Project/stocks.py:39: SettingWithCopyWarning: \n",
      "A value is trying to be set on a copy of a slice from a DataFrame.\n",
      "Try using .loc[row_indexer,col_indexer] = value instead\n",
      "\n",
      "See the caveats in the documentation: https://pandas.pydata.org/pandas-docs/stable/user_guide/indexing.html#returning-a-view-versus-a-copy\n",
      "  revenue_df['totalRevenue'] = pd.to_numeric(revenue_df['totalRevenue'], errors='ignore')\n"
     ]
    }
   ],
   "source": [
    "UMC = stocks.get_revenue('UMC')"
   ]
  },
  {
   "cell_type": "code",
   "execution_count": 161,
   "metadata": {},
   "outputs": [
    {
     "name": "stderr",
     "output_type": "stream",
     "text": [
      "/Users/benjaminliang/Documents/Intel-Project/stocks.py:36: SettingWithCopyWarning: \n",
      "A value is trying to be set on a copy of a slice from a DataFrame\n",
      "\n",
      "See the caveats in the documentation: https://pandas.pydata.org/pandas-docs/stable/user_guide/indexing.html#returning-a-view-versus-a-copy\n",
      "  revenue_df.drop([\"fiscalDateEnding\"], axis=1, inplace=True)\n",
      "/Users/benjaminliang/Documents/Intel-Project/stocks.py:39: SettingWithCopyWarning: \n",
      "A value is trying to be set on a copy of a slice from a DataFrame.\n",
      "Try using .loc[row_indexer,col_indexer] = value instead\n",
      "\n",
      "See the caveats in the documentation: https://pandas.pydata.org/pandas-docs/stable/user_guide/indexing.html#returning-a-view-versus-a-copy\n",
      "  revenue_df['totalRevenue'] = pd.to_numeric(revenue_df['totalRevenue'], errors='ignore')\n"
     ]
    }
   ],
   "source": [
    "AMD = stocks.get_revenue('AMD')"
   ]
  },
  {
   "cell_type": "code",
   "execution_count": 162,
   "metadata": {},
   "outputs": [
    {
     "name": "stderr",
     "output_type": "stream",
     "text": [
      "/Users/benjaminliang/Documents/Intel-Project/stocks.py:36: SettingWithCopyWarning: \n",
      "A value is trying to be set on a copy of a slice from a DataFrame\n",
      "\n",
      "See the caveats in the documentation: https://pandas.pydata.org/pandas-docs/stable/user_guide/indexing.html#returning-a-view-versus-a-copy\n",
      "  revenue_df.drop([\"fiscalDateEnding\"], axis=1, inplace=True)\n",
      "/Users/benjaminliang/Documents/Intel-Project/stocks.py:39: SettingWithCopyWarning: \n",
      "A value is trying to be set on a copy of a slice from a DataFrame.\n",
      "Try using .loc[row_indexer,col_indexer] = value instead\n",
      "\n",
      "See the caveats in the documentation: https://pandas.pydata.org/pandas-docs/stable/user_guide/indexing.html#returning-a-view-versus-a-copy\n",
      "  revenue_df['totalRevenue'] = pd.to_numeric(revenue_df['totalRevenue'], errors='ignore')\n"
     ]
    }
   ],
   "source": [
    "AAPL = stocks.get_revenue('AAPL')"
   ]
  },
  {
   "cell_type": "code",
   "execution_count": 163,
   "metadata": {},
   "outputs": [
    {
     "name": "stderr",
     "output_type": "stream",
     "text": [
      "/Users/benjaminliang/Documents/Intel-Project/stocks.py:36: SettingWithCopyWarning: \n",
      "A value is trying to be set on a copy of a slice from a DataFrame\n",
      "\n",
      "See the caveats in the documentation: https://pandas.pydata.org/pandas-docs/stable/user_guide/indexing.html#returning-a-view-versus-a-copy\n",
      "  revenue_df.drop([\"fiscalDateEnding\"], axis=1, inplace=True)\n",
      "/Users/benjaminliang/Documents/Intel-Project/stocks.py:39: SettingWithCopyWarning: \n",
      "A value is trying to be set on a copy of a slice from a DataFrame.\n",
      "Try using .loc[row_indexer,col_indexer] = value instead\n",
      "\n",
      "See the caveats in the documentation: https://pandas.pydata.org/pandas-docs/stable/user_guide/indexing.html#returning-a-view-versus-a-copy\n",
      "  revenue_df['totalRevenue'] = pd.to_numeric(revenue_df['totalRevenue'], errors='ignore')\n"
     ]
    }
   ],
   "source": [
    "QCOM = stocks.get_revenue('QCOM')"
   ]
  },
  {
   "cell_type": "code",
   "execution_count": 170,
   "metadata": {},
   "outputs": [
    {
     "data": {
      "text/html": [
       "<div>\n",
       "<style scoped>\n",
       "    .dataframe tbody tr th:only-of-type {\n",
       "        vertical-align: middle;\n",
       "    }\n",
       "\n",
       "    .dataframe tbody tr th {\n",
       "        vertical-align: top;\n",
       "    }\n",
       "\n",
       "    .dataframe thead th {\n",
       "        text-align: right;\n",
       "    }\n",
       "</style>\n",
       "<table border=\"1\" class=\"dataframe\">\n",
       "  <thead>\n",
       "    <tr style=\"text-align: right;\">\n",
       "      <th></th>\n",
       "      <th>year</th>\n",
       "      <th>quarter</th>\n",
       "      <th>reportedCurrency</th>\n",
       "      <th>totalRevenue</th>\n",
       "    </tr>\n",
       "  </thead>\n",
       "  <tbody>\n",
       "    <tr>\n",
       "      <th>0</th>\n",
       "      <td>2021</td>\n",
       "      <td>4</td>\n",
       "      <td>TWD</td>\n",
       "      <td>5.909959e+10</td>\n",
       "    </tr>\n",
       "    <tr>\n",
       "      <th>1</th>\n",
       "      <td>2021</td>\n",
       "      <td>3</td>\n",
       "      <td>TWD</td>\n",
       "      <td>5.590668e+10</td>\n",
       "    </tr>\n",
       "    <tr>\n",
       "      <th>2</th>\n",
       "      <td>2021</td>\n",
       "      <td>2</td>\n",
       "      <td>TWD</td>\n",
       "      <td>5.090774e+10</td>\n",
       "    </tr>\n",
       "    <tr>\n",
       "      <th>3</th>\n",
       "      <td>2021</td>\n",
       "      <td>1</td>\n",
       "      <td>TWD</td>\n",
       "      <td>4.709701e+10</td>\n",
       "    </tr>\n",
       "    <tr>\n",
       "      <th>4</th>\n",
       "      <td>2020</td>\n",
       "      <td>4</td>\n",
       "      <td>TWD</td>\n",
       "      <td>4.529635e+10</td>\n",
       "    </tr>\n",
       "    <tr>\n",
       "      <th>5</th>\n",
       "      <td>2020</td>\n",
       "      <td>3</td>\n",
       "      <td>TWD</td>\n",
       "      <td>4.487045e+10</td>\n",
       "    </tr>\n",
       "    <tr>\n",
       "      <th>6</th>\n",
       "      <td>2020</td>\n",
       "      <td>2</td>\n",
       "      <td>TWD</td>\n",
       "      <td>4.438626e+10</td>\n",
       "    </tr>\n",
       "    <tr>\n",
       "      <th>7</th>\n",
       "      <td>2020</td>\n",
       "      <td>1</td>\n",
       "      <td>TWD</td>\n",
       "      <td>4.226785e+10</td>\n",
       "    </tr>\n",
       "    <tr>\n",
       "      <th>8</th>\n",
       "      <td>2019</td>\n",
       "      <td>4</td>\n",
       "      <td>TWD</td>\n",
       "      <td>4.184906e+10</td>\n",
       "    </tr>\n",
       "    <tr>\n",
       "      <th>9</th>\n",
       "      <td>2019</td>\n",
       "      <td>3</td>\n",
       "      <td>TWD</td>\n",
       "      <td>3.773844e+10</td>\n",
       "    </tr>\n",
       "    <tr>\n",
       "      <th>10</th>\n",
       "      <td>2019</td>\n",
       "      <td>2</td>\n",
       "      <td>TWD</td>\n",
       "      <td>3.603118e+10</td>\n",
       "    </tr>\n",
       "    <tr>\n",
       "      <th>11</th>\n",
       "      <td>2019</td>\n",
       "      <td>1</td>\n",
       "      <td>TWD</td>\n",
       "      <td>3.258296e+10</td>\n",
       "    </tr>\n",
       "    <tr>\n",
       "      <th>12</th>\n",
       "      <td>2018</td>\n",
       "      <td>4</td>\n",
       "      <td>TWD</td>\n",
       "      <td>3.551720e+10</td>\n",
       "    </tr>\n",
       "    <tr>\n",
       "      <th>13</th>\n",
       "      <td>2018</td>\n",
       "      <td>3</td>\n",
       "      <td>TWD</td>\n",
       "      <td>3.938666e+10</td>\n",
       "    </tr>\n",
       "    <tr>\n",
       "      <th>14</th>\n",
       "      <td>2018</td>\n",
       "      <td>2</td>\n",
       "      <td>TWD</td>\n",
       "      <td>1.271966e+09</td>\n",
       "    </tr>\n",
       "    <tr>\n",
       "      <th>15</th>\n",
       "      <td>2018</td>\n",
       "      <td>1</td>\n",
       "      <td>TWD</td>\n",
       "      <td>3.749714e+10</td>\n",
       "    </tr>\n",
       "    <tr>\n",
       "      <th>16</th>\n",
       "      <td>2017</td>\n",
       "      <td>4</td>\n",
       "      <td>TWD</td>\n",
       "      <td>3.663067e+10</td>\n",
       "    </tr>\n",
       "    <tr>\n",
       "      <th>17</th>\n",
       "      <td>2017</td>\n",
       "      <td>3</td>\n",
       "      <td>TWD</td>\n",
       "      <td>3.769820e+10</td>\n",
       "    </tr>\n",
       "    <tr>\n",
       "      <th>18</th>\n",
       "      <td>2017</td>\n",
       "      <td>2</td>\n",
       "      <td>TWD</td>\n",
       "      <td>1.235612e+09</td>\n",
       "    </tr>\n",
       "    <tr>\n",
       "      <th>19</th>\n",
       "      <td>2017</td>\n",
       "      <td>1</td>\n",
       "      <td>TWD</td>\n",
       "      <td>3.741795e+10</td>\n",
       "    </tr>\n",
       "    <tr>\n",
       "      <th>20</th>\n",
       "      <td>2016</td>\n",
       "      <td>4</td>\n",
       "      <td>TWD</td>\n",
       "      <td>3.830594e+10</td>\n",
       "    </tr>\n",
       "  </tbody>\n",
       "</table>\n",
       "</div>"
      ],
      "text/plain": [
       "    year  quarter reportedCurrency  totalRevenue\n",
       "0   2021        4              TWD  5.909959e+10\n",
       "1   2021        3              TWD  5.590668e+10\n",
       "2   2021        2              TWD  5.090774e+10\n",
       "3   2021        1              TWD  4.709701e+10\n",
       "4   2020        4              TWD  4.529635e+10\n",
       "5   2020        3              TWD  4.487045e+10\n",
       "6   2020        2              TWD  4.438626e+10\n",
       "7   2020        1              TWD  4.226785e+10\n",
       "8   2019        4              TWD  4.184906e+10\n",
       "9   2019        3              TWD  3.773844e+10\n",
       "10  2019        2              TWD  3.603118e+10\n",
       "11  2019        1              TWD  3.258296e+10\n",
       "12  2018        4              TWD  3.551720e+10\n",
       "13  2018        3              TWD  3.938666e+10\n",
       "14  2018        2              TWD  1.271966e+09\n",
       "15  2018        1              TWD  3.749714e+10\n",
       "16  2017        4              TWD  3.663067e+10\n",
       "17  2017        3              TWD  3.769820e+10\n",
       "18  2017        2              TWD  1.235612e+09\n",
       "19  2017        1              TWD  3.741795e+10\n",
       "20  2016        4              TWD  3.830594e+10"
      ]
     },
     "execution_count": 170,
     "metadata": {},
     "output_type": "execute_result"
    }
   ],
   "source": [
    "UMC #Someone probably converted 2017Q2 and 2018Q2 to USD"
   ]
  },
  {
   "cell_type": "code",
   "execution_count": 171,
   "metadata": {},
   "outputs": [],
   "source": [
    "# Use the converter class here, I was just lazy and brought the numbers over directly\n",
    "UMC.at[14, 'totalRevenue'] = float(UMC.at[14, 'totalRevenue']) * 29.623\n",
    "UMC.at[18, 'totalRevenue'] = float(UMC.at[18, 'totalRevenue']) * 30.157"
   ]
  },
  {
   "cell_type": "code",
   "execution_count": null,
   "metadata": {},
   "outputs": [],
   "source": [
    "conv = converter.Converter()\n",
    "UMC.at[14, 'totalRevenue'] = conv.usd_twd(float(UMC.at[14, 'totalRevenue']), 2018, 2)\n",
    "UMC.at[18, 'totalRevenue'] = conv.usd_twd(float(UMC.at[18, 'totalRevenue']), 2017, 2)"
   ]
  },
  {
   "cell_type": "code",
   "execution_count": 172,
   "metadata": {},
   "outputs": [
    {
     "data": {
      "text/html": [
       "<div>\n",
       "<style scoped>\n",
       "    .dataframe tbody tr th:only-of-type {\n",
       "        vertical-align: middle;\n",
       "    }\n",
       "\n",
       "    .dataframe tbody tr th {\n",
       "        vertical-align: top;\n",
       "    }\n",
       "\n",
       "    .dataframe thead th {\n",
       "        text-align: right;\n",
       "    }\n",
       "</style>\n",
       "<table border=\"1\" class=\"dataframe\">\n",
       "  <thead>\n",
       "    <tr style=\"text-align: right;\">\n",
       "      <th></th>\n",
       "      <th>year</th>\n",
       "      <th>quarter</th>\n",
       "      <th>reportedCurrency</th>\n",
       "      <th>totalRevenue</th>\n",
       "    </tr>\n",
       "  </thead>\n",
       "  <tbody>\n",
       "    <tr>\n",
       "      <th>0</th>\n",
       "      <td>2021</td>\n",
       "      <td>4</td>\n",
       "      <td>TWD</td>\n",
       "      <td>5.909959e+10</td>\n",
       "    </tr>\n",
       "    <tr>\n",
       "      <th>1</th>\n",
       "      <td>2021</td>\n",
       "      <td>3</td>\n",
       "      <td>TWD</td>\n",
       "      <td>5.590668e+10</td>\n",
       "    </tr>\n",
       "    <tr>\n",
       "      <th>2</th>\n",
       "      <td>2021</td>\n",
       "      <td>2</td>\n",
       "      <td>TWD</td>\n",
       "      <td>5.090774e+10</td>\n",
       "    </tr>\n",
       "    <tr>\n",
       "      <th>3</th>\n",
       "      <td>2021</td>\n",
       "      <td>1</td>\n",
       "      <td>TWD</td>\n",
       "      <td>4.709701e+10</td>\n",
       "    </tr>\n",
       "    <tr>\n",
       "      <th>4</th>\n",
       "      <td>2020</td>\n",
       "      <td>4</td>\n",
       "      <td>TWD</td>\n",
       "      <td>4.529635e+10</td>\n",
       "    </tr>\n",
       "    <tr>\n",
       "      <th>5</th>\n",
       "      <td>2020</td>\n",
       "      <td>3</td>\n",
       "      <td>TWD</td>\n",
       "      <td>4.487045e+10</td>\n",
       "    </tr>\n",
       "    <tr>\n",
       "      <th>6</th>\n",
       "      <td>2020</td>\n",
       "      <td>2</td>\n",
       "      <td>TWD</td>\n",
       "      <td>4.438626e+10</td>\n",
       "    </tr>\n",
       "    <tr>\n",
       "      <th>7</th>\n",
       "      <td>2020</td>\n",
       "      <td>1</td>\n",
       "      <td>TWD</td>\n",
       "      <td>4.226785e+10</td>\n",
       "    </tr>\n",
       "    <tr>\n",
       "      <th>8</th>\n",
       "      <td>2019</td>\n",
       "      <td>4</td>\n",
       "      <td>TWD</td>\n",
       "      <td>4.184906e+10</td>\n",
       "    </tr>\n",
       "    <tr>\n",
       "      <th>9</th>\n",
       "      <td>2019</td>\n",
       "      <td>3</td>\n",
       "      <td>TWD</td>\n",
       "      <td>3.773844e+10</td>\n",
       "    </tr>\n",
       "    <tr>\n",
       "      <th>10</th>\n",
       "      <td>2019</td>\n",
       "      <td>2</td>\n",
       "      <td>TWD</td>\n",
       "      <td>3.603118e+10</td>\n",
       "    </tr>\n",
       "    <tr>\n",
       "      <th>11</th>\n",
       "      <td>2019</td>\n",
       "      <td>1</td>\n",
       "      <td>TWD</td>\n",
       "      <td>3.258296e+10</td>\n",
       "    </tr>\n",
       "    <tr>\n",
       "      <th>12</th>\n",
       "      <td>2018</td>\n",
       "      <td>4</td>\n",
       "      <td>TWD</td>\n",
       "      <td>3.551720e+10</td>\n",
       "    </tr>\n",
       "    <tr>\n",
       "      <th>13</th>\n",
       "      <td>2018</td>\n",
       "      <td>3</td>\n",
       "      <td>TWD</td>\n",
       "      <td>3.938666e+10</td>\n",
       "    </tr>\n",
       "    <tr>\n",
       "      <th>14</th>\n",
       "      <td>2018</td>\n",
       "      <td>2</td>\n",
       "      <td>TWD</td>\n",
       "      <td>3.767946e+10</td>\n",
       "    </tr>\n",
       "    <tr>\n",
       "      <th>15</th>\n",
       "      <td>2018</td>\n",
       "      <td>1</td>\n",
       "      <td>TWD</td>\n",
       "      <td>3.749714e+10</td>\n",
       "    </tr>\n",
       "    <tr>\n",
       "      <th>16</th>\n",
       "      <td>2017</td>\n",
       "      <td>4</td>\n",
       "      <td>TWD</td>\n",
       "      <td>3.663067e+10</td>\n",
       "    </tr>\n",
       "    <tr>\n",
       "      <th>17</th>\n",
       "      <td>2017</td>\n",
       "      <td>3</td>\n",
       "      <td>TWD</td>\n",
       "      <td>3.769820e+10</td>\n",
       "    </tr>\n",
       "    <tr>\n",
       "      <th>18</th>\n",
       "      <td>2017</td>\n",
       "      <td>2</td>\n",
       "      <td>TWD</td>\n",
       "      <td>3.726235e+10</td>\n",
       "    </tr>\n",
       "    <tr>\n",
       "      <th>19</th>\n",
       "      <td>2017</td>\n",
       "      <td>1</td>\n",
       "      <td>TWD</td>\n",
       "      <td>3.741795e+10</td>\n",
       "    </tr>\n",
       "    <tr>\n",
       "      <th>20</th>\n",
       "      <td>2016</td>\n",
       "      <td>4</td>\n",
       "      <td>TWD</td>\n",
       "      <td>3.830594e+10</td>\n",
       "    </tr>\n",
       "  </tbody>\n",
       "</table>\n",
       "</div>"
      ],
      "text/plain": [
       "    year  quarter reportedCurrency  totalRevenue\n",
       "0   2021        4              TWD  5.909959e+10\n",
       "1   2021        3              TWD  5.590668e+10\n",
       "2   2021        2              TWD  5.090774e+10\n",
       "3   2021        1              TWD  4.709701e+10\n",
       "4   2020        4              TWD  4.529635e+10\n",
       "5   2020        3              TWD  4.487045e+10\n",
       "6   2020        2              TWD  4.438626e+10\n",
       "7   2020        1              TWD  4.226785e+10\n",
       "8   2019        4              TWD  4.184906e+10\n",
       "9   2019        3              TWD  3.773844e+10\n",
       "10  2019        2              TWD  3.603118e+10\n",
       "11  2019        1              TWD  3.258296e+10\n",
       "12  2018        4              TWD  3.551720e+10\n",
       "13  2018        3              TWD  3.938666e+10\n",
       "14  2018        2              TWD  3.767946e+10\n",
       "15  2018        1              TWD  3.749714e+10\n",
       "16  2017        4              TWD  3.663067e+10\n",
       "17  2017        3              TWD  3.769820e+10\n",
       "18  2017        2              TWD  3.726235e+10\n",
       "19  2017        1              TWD  3.741795e+10\n",
       "20  2016        4              TWD  3.830594e+10"
      ]
     },
     "execution_count": 172,
     "metadata": {},
     "output_type": "execute_result"
    }
   ],
   "source": [
    "UMC"
   ]
  },
  {
   "cell_type": "code",
   "execution_count": 173,
   "metadata": {},
   "outputs": [
    {
     "data": {
      "text/html": [
       "<div>\n",
       "<style scoped>\n",
       "    .dataframe tbody tr th:only-of-type {\n",
       "        vertical-align: middle;\n",
       "    }\n",
       "\n",
       "    .dataframe tbody tr th {\n",
       "        vertical-align: top;\n",
       "    }\n",
       "\n",
       "    .dataframe thead th {\n",
       "        text-align: right;\n",
       "    }\n",
       "</style>\n",
       "<table border=\"1\" class=\"dataframe\">\n",
       "  <thead>\n",
       "    <tr style=\"text-align: right;\">\n",
       "      <th></th>\n",
       "      <th>year</th>\n",
       "      <th>quarter</th>\n",
       "      <th>reportedCurrency</th>\n",
       "      <th>totalRevenue</th>\n",
       "    </tr>\n",
       "  </thead>\n",
       "  <tbody>\n",
       "    <tr>\n",
       "      <th>0</th>\n",
       "      <td>2021</td>\n",
       "      <td>4</td>\n",
       "      <td>USD</td>\n",
       "      <td>4845000000</td>\n",
       "    </tr>\n",
       "    <tr>\n",
       "      <th>1</th>\n",
       "      <td>2021</td>\n",
       "      <td>3</td>\n",
       "      <td>USD</td>\n",
       "      <td>4306000000</td>\n",
       "    </tr>\n",
       "    <tr>\n",
       "      <th>2</th>\n",
       "      <td>2021</td>\n",
       "      <td>2</td>\n",
       "      <td>USD</td>\n",
       "      <td>3840000000</td>\n",
       "    </tr>\n",
       "    <tr>\n",
       "      <th>3</th>\n",
       "      <td>2021</td>\n",
       "      <td>1</td>\n",
       "      <td>USD</td>\n",
       "      <td>3422000000</td>\n",
       "    </tr>\n",
       "    <tr>\n",
       "      <th>4</th>\n",
       "      <td>2020</td>\n",
       "      <td>4</td>\n",
       "      <td>USD</td>\n",
       "      <td>3235000000</td>\n",
       "    </tr>\n",
       "    <tr>\n",
       "      <th>5</th>\n",
       "      <td>2020</td>\n",
       "      <td>3</td>\n",
       "      <td>USD</td>\n",
       "      <td>2790000000</td>\n",
       "    </tr>\n",
       "    <tr>\n",
       "      <th>6</th>\n",
       "      <td>2020</td>\n",
       "      <td>2</td>\n",
       "      <td>USD</td>\n",
       "      <td>1918000000</td>\n",
       "    </tr>\n",
       "    <tr>\n",
       "      <th>7</th>\n",
       "      <td>2020</td>\n",
       "      <td>1</td>\n",
       "      <td>USD</td>\n",
       "      <td>1755000000</td>\n",
       "    </tr>\n",
       "    <tr>\n",
       "      <th>8</th>\n",
       "      <td>2019</td>\n",
       "      <td>4</td>\n",
       "      <td>USD</td>\n",
       "      <td>2109000000</td>\n",
       "    </tr>\n",
       "    <tr>\n",
       "      <th>9</th>\n",
       "      <td>2019</td>\n",
       "      <td>3</td>\n",
       "      <td>USD</td>\n",
       "      <td>1737000000</td>\n",
       "    </tr>\n",
       "    <tr>\n",
       "      <th>10</th>\n",
       "      <td>2019</td>\n",
       "      <td>2</td>\n",
       "      <td>USD</td>\n",
       "      <td>1506000000</td>\n",
       "    </tr>\n",
       "    <tr>\n",
       "      <th>11</th>\n",
       "      <td>2019</td>\n",
       "      <td>1</td>\n",
       "      <td>USD</td>\n",
       "      <td>1291000000</td>\n",
       "    </tr>\n",
       "    <tr>\n",
       "      <th>12</th>\n",
       "      <td>2018</td>\n",
       "      <td>4</td>\n",
       "      <td>USD</td>\n",
       "      <td>1390000000</td>\n",
       "    </tr>\n",
       "    <tr>\n",
       "      <th>13</th>\n",
       "      <td>2018</td>\n",
       "      <td>3</td>\n",
       "      <td>USD</td>\n",
       "      <td>1623000000</td>\n",
       "    </tr>\n",
       "    <tr>\n",
       "      <th>14</th>\n",
       "      <td>2018</td>\n",
       "      <td>2</td>\n",
       "      <td>USD</td>\n",
       "      <td>1725000000</td>\n",
       "    </tr>\n",
       "    <tr>\n",
       "      <th>15</th>\n",
       "      <td>2018</td>\n",
       "      <td>1</td>\n",
       "      <td>USD</td>\n",
       "      <td>1615000000</td>\n",
       "    </tr>\n",
       "    <tr>\n",
       "      <th>16</th>\n",
       "      <td>2017</td>\n",
       "      <td>4</td>\n",
       "      <td>USD</td>\n",
       "      <td>1449000000</td>\n",
       "    </tr>\n",
       "    <tr>\n",
       "      <th>17</th>\n",
       "      <td>2017</td>\n",
       "      <td>3</td>\n",
       "      <td>USD</td>\n",
       "      <td>1584000000</td>\n",
       "    </tr>\n",
       "    <tr>\n",
       "      <th>18</th>\n",
       "      <td>2017</td>\n",
       "      <td>2</td>\n",
       "      <td>USD</td>\n",
       "      <td>1151000000</td>\n",
       "    </tr>\n",
       "    <tr>\n",
       "      <th>19</th>\n",
       "      <td>2017</td>\n",
       "      <td>1</td>\n",
       "      <td>USD</td>\n",
       "      <td>1178000000</td>\n",
       "    </tr>\n",
       "  </tbody>\n",
       "</table>\n",
       "</div>"
      ],
      "text/plain": [
       "    year  quarter reportedCurrency  totalRevenue\n",
       "0   2021        4              USD    4845000000\n",
       "1   2021        3              USD    4306000000\n",
       "2   2021        2              USD    3840000000\n",
       "3   2021        1              USD    3422000000\n",
       "4   2020        4              USD    3235000000\n",
       "5   2020        3              USD    2790000000\n",
       "6   2020        2              USD    1918000000\n",
       "7   2020        1              USD    1755000000\n",
       "8   2019        4              USD    2109000000\n",
       "9   2019        3              USD    1737000000\n",
       "10  2019        2              USD    1506000000\n",
       "11  2019        1              USD    1291000000\n",
       "12  2018        4              USD    1390000000\n",
       "13  2018        3              USD    1623000000\n",
       "14  2018        2              USD    1725000000\n",
       "15  2018        1              USD    1615000000\n",
       "16  2017        4              USD    1449000000\n",
       "17  2017        3              USD    1584000000\n",
       "18  2017        2              USD    1151000000\n",
       "19  2017        1              USD    1178000000"
      ]
     },
     "execution_count": 173,
     "metadata": {},
     "output_type": "execute_result"
    }
   ],
   "source": [
    "AMD"
   ]
  },
  {
   "cell_type": "code",
   "execution_count": 174,
   "metadata": {},
   "outputs": [
    {
     "name": "stderr",
     "output_type": "stream",
     "text": [
      "/var/folders/wz/pp_vd4r15f15t9yc2f0gzn_c0000gn/T/ipykernel_54058/1510224374.py:8: SettingWithCopyWarning: \n",
      "A value is trying to be set on a copy of a slice from a DataFrame.\n",
      "Try using .loc[row_indexer,col_indexer] = value instead\n",
      "\n",
      "See the caveats in the documentation: https://pandas.pydata.org/pandas-docs/stable/user_guide/indexing.html#returning-a-view-versus-a-copy\n",
      "  UMC[\"revChange\"] = pd.to_numeric(UMC.totalRevenue).diff()\n",
      "/var/folders/wz/pp_vd4r15f15t9yc2f0gzn_c0000gn/T/ipykernel_54058/1510224374.py:9: SettingWithCopyWarning: \n",
      "A value is trying to be set on a copy of a slice from a DataFrame.\n",
      "Try using .loc[row_indexer,col_indexer] = value instead\n",
      "\n",
      "See the caveats in the documentation: https://pandas.pydata.org/pandas-docs/stable/user_guide/indexing.html#returning-a-view-versus-a-copy\n",
      "  UMC[\"pctRevChange\"] = pd.to_numeric(UMC.totalRevenue).pct_change()\n",
      "/var/folders/wz/pp_vd4r15f15t9yc2f0gzn_c0000gn/T/ipykernel_54058/1510224374.py:14: SettingWithCopyWarning: \n",
      "A value is trying to be set on a copy of a slice from a DataFrame.\n",
      "Try using .loc[row_indexer,col_indexer] = value instead\n",
      "\n",
      "See the caveats in the documentation: https://pandas.pydata.org/pandas-docs/stable/user_guide/indexing.html#returning-a-view-versus-a-copy\n",
      "  AMD[\"revChange\"] = pd.to_numeric(AMD.totalRevenue).diff()\n",
      "/var/folders/wz/pp_vd4r15f15t9yc2f0gzn_c0000gn/T/ipykernel_54058/1510224374.py:15: SettingWithCopyWarning: \n",
      "A value is trying to be set on a copy of a slice from a DataFrame.\n",
      "Try using .loc[row_indexer,col_indexer] = value instead\n",
      "\n",
      "See the caveats in the documentation: https://pandas.pydata.org/pandas-docs/stable/user_guide/indexing.html#returning-a-view-versus-a-copy\n",
      "  AMD[\"pctRevChange\"] = pd.to_numeric(AMD.totalRevenue).pct_change()\n"
     ]
    }
   ],
   "source": [
    "# Reverse the df\n",
    "UMC = UMC.iloc[::-1]\n",
    "AAPL = AAPL.iloc[::-1]\n",
    "QCOM = QCOM.iloc[::-1]\n",
    "AMD = AMD.iloc[::-1]\n",
    "\n",
    "# Difference the data\n",
    "UMC[\"revChange\"] = pd.to_numeric(UMC.totalRevenue).diff()\n",
    "UMC[\"pctRevChange\"] = pd.to_numeric(UMC.totalRevenue).pct_change()\n",
    "AAPL[\"revChange\"] = pd.to_numeric(AAPL.totalRevenue).diff()\n",
    "AAPL[\"pctRevChange\"] = pd.to_numeric(AAPL.totalRevenue).pct_change()\n",
    "QCOM[\"revChange\"] = pd.to_numeric(QCOM.totalRevenue).diff()\n",
    "QCOM[\"pctRevChange\"] = pd.to_numeric(QCOM.totalRevenue).pct_change()\n",
    "AMD[\"revChange\"] = pd.to_numeric(AMD.totalRevenue).diff()\n",
    "AMD[\"pctRevChange\"] = pd.to_numeric(AMD.totalRevenue).pct_change()"
   ]
  },
  {
   "cell_type": "code",
   "execution_count": 175,
   "metadata": {},
   "outputs": [
    {
     "data": {
      "text/html": [
       "<div>\n",
       "<style scoped>\n",
       "    .dataframe tbody tr th:only-of-type {\n",
       "        vertical-align: middle;\n",
       "    }\n",
       "\n",
       "    .dataframe tbody tr th {\n",
       "        vertical-align: top;\n",
       "    }\n",
       "\n",
       "    .dataframe thead th {\n",
       "        text-align: right;\n",
       "    }\n",
       "</style>\n",
       "<table border=\"1\" class=\"dataframe\">\n",
       "  <thead>\n",
       "    <tr style=\"text-align: right;\">\n",
       "      <th></th>\n",
       "      <th>year</th>\n",
       "      <th>quarter</th>\n",
       "      <th>reportedCurrency</th>\n",
       "      <th>totalRevenue</th>\n",
       "      <th>revChange</th>\n",
       "      <th>pctRevChange</th>\n",
       "    </tr>\n",
       "  </thead>\n",
       "  <tbody>\n",
       "    <tr>\n",
       "      <th>19</th>\n",
       "      <td>2017</td>\n",
       "      <td>1</td>\n",
       "      <td>USD</td>\n",
       "      <td>5016000000</td>\n",
       "      <td>NaN</td>\n",
       "      <td>NaN</td>\n",
       "    </tr>\n",
       "    <tr>\n",
       "      <th>18</th>\n",
       "      <td>2017</td>\n",
       "      <td>2</td>\n",
       "      <td>USD</td>\n",
       "      <td>5356000000</td>\n",
       "      <td>340000000.0</td>\n",
       "      <td>0.067783</td>\n",
       "    </tr>\n",
       "    <tr>\n",
       "      <th>17</th>\n",
       "      <td>2017</td>\n",
       "      <td>3</td>\n",
       "      <td>USD</td>\n",
       "      <td>5888000000</td>\n",
       "      <td>532000000.0</td>\n",
       "      <td>0.099328</td>\n",
       "    </tr>\n",
       "    <tr>\n",
       "      <th>16</th>\n",
       "      <td>2017</td>\n",
       "      <td>4</td>\n",
       "      <td>USD</td>\n",
       "      <td>6035000000</td>\n",
       "      <td>147000000.0</td>\n",
       "      <td>0.024966</td>\n",
       "    </tr>\n",
       "    <tr>\n",
       "      <th>15</th>\n",
       "      <td>2018</td>\n",
       "      <td>1</td>\n",
       "      <td>USD</td>\n",
       "      <td>5220000000</td>\n",
       "      <td>-815000000.0</td>\n",
       "      <td>-0.135046</td>\n",
       "    </tr>\n",
       "  </tbody>\n",
       "</table>\n",
       "</div>"
      ],
      "text/plain": [
       "    year  quarter reportedCurrency  totalRevenue    revChange  pctRevChange\n",
       "19  2017        1              USD    5016000000          NaN           NaN\n",
       "18  2017        2              USD    5356000000  340000000.0      0.067783\n",
       "17  2017        3              USD    5888000000  532000000.0      0.099328\n",
       "16  2017        4              USD    6035000000  147000000.0      0.024966\n",
       "15  2018        1              USD    5220000000 -815000000.0     -0.135046"
      ]
     },
     "execution_count": 175,
     "metadata": {},
     "output_type": "execute_result"
    }
   ],
   "source": [
    "QCOM.head()"
   ]
  },
  {
   "cell_type": "code",
   "execution_count": 176,
   "metadata": {},
   "outputs": [
    {
     "data": {
      "text/html": [
       "<div>\n",
       "<style scoped>\n",
       "    .dataframe tbody tr th:only-of-type {\n",
       "        vertical-align: middle;\n",
       "    }\n",
       "\n",
       "    .dataframe tbody tr th {\n",
       "        vertical-align: top;\n",
       "    }\n",
       "\n",
       "    .dataframe thead th {\n",
       "        text-align: right;\n",
       "    }\n",
       "</style>\n",
       "<table border=\"1\" class=\"dataframe\">\n",
       "  <thead>\n",
       "    <tr style=\"text-align: right;\">\n",
       "      <th></th>\n",
       "      <th>year</th>\n",
       "      <th>quarter</th>\n",
       "      <th>reportedCurrency</th>\n",
       "      <th>totalRevenue</th>\n",
       "      <th>revChange</th>\n",
       "      <th>pctRevChange</th>\n",
       "    </tr>\n",
       "  </thead>\n",
       "  <tbody>\n",
       "    <tr>\n",
       "      <th>20</th>\n",
       "      <td>2016</td>\n",
       "      <td>4</td>\n",
       "      <td>TWD</td>\n",
       "      <td>3.830594e+10</td>\n",
       "      <td>NaN</td>\n",
       "      <td>NaN</td>\n",
       "    </tr>\n",
       "    <tr>\n",
       "      <th>19</th>\n",
       "      <td>2017</td>\n",
       "      <td>1</td>\n",
       "      <td>TWD</td>\n",
       "      <td>3.741795e+10</td>\n",
       "      <td>-8.879890e+08</td>\n",
       "      <td>-0.023181</td>\n",
       "    </tr>\n",
       "    <tr>\n",
       "      <th>18</th>\n",
       "      <td>2017</td>\n",
       "      <td>2</td>\n",
       "      <td>TWD</td>\n",
       "      <td>3.726235e+10</td>\n",
       "      <td>-1.555989e+08</td>\n",
       "      <td>-0.004158</td>\n",
       "    </tr>\n",
       "    <tr>\n",
       "      <th>17</th>\n",
       "      <td>2017</td>\n",
       "      <td>3</td>\n",
       "      <td>TWD</td>\n",
       "      <td>3.769820e+10</td>\n",
       "      <td>4.358499e+08</td>\n",
       "      <td>0.011697</td>\n",
       "    </tr>\n",
       "    <tr>\n",
       "      <th>16</th>\n",
       "      <td>2017</td>\n",
       "      <td>4</td>\n",
       "      <td>TWD</td>\n",
       "      <td>3.663067e+10</td>\n",
       "      <td>-1.067527e+09</td>\n",
       "      <td>-0.028318</td>\n",
       "    </tr>\n",
       "  </tbody>\n",
       "</table>\n",
       "</div>"
      ],
      "text/plain": [
       "    year  quarter reportedCurrency  totalRevenue     revChange  pctRevChange\n",
       "20  2016        4              TWD  3.830594e+10           NaN           NaN\n",
       "19  2017        1              TWD  3.741795e+10 -8.879890e+08     -0.023181\n",
       "18  2017        2              TWD  3.726235e+10 -1.555989e+08     -0.004158\n",
       "17  2017        3              TWD  3.769820e+10  4.358499e+08      0.011697\n",
       "16  2017        4              TWD  3.663067e+10 -1.067527e+09     -0.028318"
      ]
     },
     "execution_count": 176,
     "metadata": {},
     "output_type": "execute_result"
    }
   ],
   "source": [
    "UMC.head()"
   ]
  },
  {
   "cell_type": "code",
   "execution_count": 177,
   "metadata": {},
   "outputs": [
    {
     "data": {
      "text/html": [
       "<div>\n",
       "<style scoped>\n",
       "    .dataframe tbody tr th:only-of-type {\n",
       "        vertical-align: middle;\n",
       "    }\n",
       "\n",
       "    .dataframe tbody tr th {\n",
       "        vertical-align: top;\n",
       "    }\n",
       "\n",
       "    .dataframe thead th {\n",
       "        text-align: right;\n",
       "    }\n",
       "</style>\n",
       "<table border=\"1\" class=\"dataframe\">\n",
       "  <thead>\n",
       "    <tr style=\"text-align: right;\">\n",
       "      <th></th>\n",
       "      <th>year</th>\n",
       "      <th>quarter</th>\n",
       "      <th>reportedCurrency</th>\n",
       "      <th>totalRevenue</th>\n",
       "      <th>revChange</th>\n",
       "      <th>pctRevChange</th>\n",
       "    </tr>\n",
       "  </thead>\n",
       "  <tbody>\n",
       "    <tr>\n",
       "      <th>19</th>\n",
       "      <td>2017</td>\n",
       "      <td>1</td>\n",
       "      <td>USD</td>\n",
       "      <td>1178000000</td>\n",
       "      <td>NaN</td>\n",
       "      <td>NaN</td>\n",
       "    </tr>\n",
       "    <tr>\n",
       "      <th>18</th>\n",
       "      <td>2017</td>\n",
       "      <td>2</td>\n",
       "      <td>USD</td>\n",
       "      <td>1151000000</td>\n",
       "      <td>-27000000.0</td>\n",
       "      <td>-0.022920</td>\n",
       "    </tr>\n",
       "    <tr>\n",
       "      <th>17</th>\n",
       "      <td>2017</td>\n",
       "      <td>3</td>\n",
       "      <td>USD</td>\n",
       "      <td>1584000000</td>\n",
       "      <td>433000000.0</td>\n",
       "      <td>0.376195</td>\n",
       "    </tr>\n",
       "    <tr>\n",
       "      <th>16</th>\n",
       "      <td>2017</td>\n",
       "      <td>4</td>\n",
       "      <td>USD</td>\n",
       "      <td>1449000000</td>\n",
       "      <td>-135000000.0</td>\n",
       "      <td>-0.085227</td>\n",
       "    </tr>\n",
       "    <tr>\n",
       "      <th>15</th>\n",
       "      <td>2018</td>\n",
       "      <td>1</td>\n",
       "      <td>USD</td>\n",
       "      <td>1615000000</td>\n",
       "      <td>166000000.0</td>\n",
       "      <td>0.114562</td>\n",
       "    </tr>\n",
       "  </tbody>\n",
       "</table>\n",
       "</div>"
      ],
      "text/plain": [
       "    year  quarter reportedCurrency  totalRevenue    revChange  pctRevChange\n",
       "19  2017        1              USD    1178000000          NaN           NaN\n",
       "18  2017        2              USD    1151000000  -27000000.0     -0.022920\n",
       "17  2017        3              USD    1584000000  433000000.0      0.376195\n",
       "16  2017        4              USD    1449000000 -135000000.0     -0.085227\n",
       "15  2018        1              USD    1615000000  166000000.0      0.114562"
      ]
     },
     "execution_count": 177,
     "metadata": {},
     "output_type": "execute_result"
    }
   ],
   "source": [
    "AMD.head()"
   ]
  },
  {
   "cell_type": "code",
   "execution_count": 178,
   "metadata": {},
   "outputs": [
    {
     "data": {
      "text/plain": [
       "<AxesSubplot:>"
      ]
     },
     "execution_count": 178,
     "metadata": {},
     "output_type": "execute_result"
    },
    {
     "data": {
      "image/png": "[encoded data removed]",
      "text/plain": [
       "<Figure size 432x288 with 1 Axes>"
      ]
     },
     "metadata": {
      "needs_background": "light"
     },
     "output_type": "display_data"
    }
   ],
   "source": [
    "UMC.pctRevChange.plot()"
   ]
  },
  {
   "cell_type": "code",
   "execution_count": 179,
   "metadata": {},
   "outputs": [
    {
     "data": {
      "text/plain": [
       "<AxesSubplot:>"
      ]
     },
     "execution_count": 179,
     "metadata": {},
     "output_type": "execute_result"
    },
    {
     "data": {
      "image/png": "[encoded data removed]",
      "text/plain": [
       "<Figure size 432x288 with 1 Axes>"
      ]
     },
     "metadata": {
      "needs_background": "light"
     },
     "output_type": "display_data"
    }
   ],
   "source": [
    "AAPL.pctRevChange.plot()"
   ]
  },
  {
   "cell_type": "code",
   "execution_count": 180,
   "metadata": {},
   "outputs": [
    {
     "data": {
      "text/plain": [
       "<AxesSubplot:>"
      ]
     },
     "execution_count": 180,
     "metadata": {},
     "output_type": "execute_result"
    },
    {
     "data": {
      "image/png": "[encoded data removed]",
      "text/plain": [
       "<Figure size 432x288 with 1 Axes>"
      ]
     },
     "metadata": {
      "needs_background": "light"
     },
     "output_type": "display_data"
    }
   ],
   "source": [
    "QCOM.pctRevChange.plot()"
   ]
  },
  {
   "cell_type": "code",
   "execution_count": 181,
   "metadata": {},
   "outputs": [
    {
     "data": {
      "text/plain": [
       "<AxesSubplot:>"
      ]
     },
     "execution_count": 181,
     "metadata": {},
     "output_type": "execute_result"
    },
    {
     "data": {
      "image/png": "[encoded data removed]",
      "text/plain": [
       "<Figure size 432x288 with 1 Axes>"
      ]
     },
     "metadata": {
      "needs_background": "light"
     },
     "output_type": "display_data"
    }
   ],
   "source": [
    "AMD.pctRevChange.plot()"
   ]
  },
  {
   "cell_type": "markdown",
   "metadata": {},
   "source": [
    "*** Linear Regressions UMC ***"
   ]
  },
  {
   "cell_type": "code",
   "execution_count": 189,
   "metadata": {},
   "outputs": [],
   "source": [
    "import numpy as np\n",
    "from sklearn.linear_model import LinearRegression\n",
    "import matplotlib.pyplot as plt"
   ]
  },
  {
   "cell_type": "code",
   "execution_count": 190,
   "metadata": {},
   "outputs": [],
   "source": [
    "x_qcom = QCOM.pctRevChange[1:].to_numpy().reshape(-1,1)\n",
    "y_umc = UMC.pctRevChange[2:].to_numpy()"
   ]
  },
  {
   "cell_type": "code",
   "execution_count": 191,
   "metadata": {},
   "outputs": [],
   "source": [
    "model = LinearRegression()\n",
    "reg = model.fit(x_qcom,y_umc)"
   ]
  },
  {
   "cell_type": "code",
   "execution_count": 192,
   "metadata": {},
   "outputs": [
    {
     "data": {
      "text/plain": [
       "0.07715775151619686"
      ]
     },
     "execution_count": 192,
     "metadata": {},
     "output_type": "execute_result"
    }
   ],
   "source": [
    "r_sq = model.score(x_qcom, y_umc)\n",
    "r_sq"
   ]
  },
  {
   "cell_type": "code",
   "execution_count": 193,
   "metadata": {},
   "outputs": [
    {
     "data": {
      "text/plain": [
       "array([ 0.02536762,  0.02699925,  0.02315295,  0.01487648,  0.02539905,\n",
       "        0.02372578,  0.01348261,  0.02335713,  0.07017   , -0.00401926,\n",
       "        0.02468741,  0.02327772,  0.01865859,  0.05836343,  0.02117368,\n",
       "        0.0199773 ,  0.02267641,  0.03005019,  0.02944626])"
      ]
     },
     "execution_count": 193,
     "metadata": {},
     "output_type": "execute_result"
    }
   ],
   "source": [
    "reg.predict(x_qcom)"
   ]
  },
  {
   "cell_type": "code",
   "execution_count": 194,
   "metadata": {},
   "outputs": [
    {
     "data": {
      "image/png": "[encoded data removed]",
      "text/plain": [
       "<Figure size 432x288 with 1 Axes>"
      ]
     },
     "metadata": {
      "needs_background": "light"
     },
     "output_type": "display_data"
    }
   ],
   "source": [
    "plt.plot(list(range(len(x_qcom))), reg.predict(x_qcom), label = 'Predicted UMC Rev')\n",
    "plt.plot(list(range(len(x_qcom))), y_umc, label = 'Actual UMC Rev')\n",
    "plt.legend()\n",
    "plt.show()"
   ]
  },
  {
   "cell_type": "code",
   "execution_count": 195,
   "metadata": {},
   "outputs": [],
   "source": [
    "x_amd = AMD.pctRevChange[1:].to_numpy().reshape(-1,1)\n",
    "y_umc = UMC.pctRevChange[2:].to_numpy()"
   ]
  },
  {
   "cell_type": "code",
   "execution_count": 196,
   "metadata": {},
   "outputs": [],
   "source": [
    "model_linear = LinearRegression()\n",
    "reg = model_linear.fit(x_amd,y_umc)"
   ]
  },
  {
   "cell_type": "code",
   "execution_count": 197,
   "metadata": {},
   "outputs": [
    {
     "data": {
      "text/plain": [
       "0.20275378828557156"
      ]
     },
     "execution_count": 197,
     "metadata": {},
     "output_type": "execute_result"
    }
   ],
   "source": [
    "r_sq = model_linear.score(x_amd, y_umc)\n",
    "r_sq"
   ]
  },
  {
   "cell_type": "code",
   "execution_count": 198,
   "metadata": {},
   "outputs": [
    {
     "data": {
      "text/plain": [
       "array([ 0.0083407 ,  0.07114563, -0.00146397,  0.02997494,  0.02266549,\n",
       "        0.00264264, -0.01064345,  0.00073974,  0.03815388,  0.03608441,\n",
       "        0.04564814, -0.01446585,  0.02656269,  0.08348987,  0.03704616,\n",
       "        0.0210437 ,  0.03116915,  0.03104379,  0.03164491])"
      ]
     },
     "execution_count": 198,
     "metadata": {},
     "output_type": "execute_result"
    }
   ],
   "source": [
    "reg.predict(x_amd)"
   ]
  },
  {
   "cell_type": "code",
   "execution_count": 199,
   "metadata": {},
   "outputs": [
    {
     "data": {
      "image/png": "[encoded data removed]",
      "text/plain": [
       "<Figure size 432x288 with 1 Axes>"
      ]
     },
     "metadata": {
      "needs_background": "light"
     },
     "output_type": "display_data"
    }
   ],
   "source": [
    "plt.plot(list(range(len(x_amd))), reg.predict(x_amd), label = 'Predicted UMC Rev')\n",
    "plt.plot(list(range(len(x_amd))), y_umc, label = 'Actual UMC Rev')\n",
    "plt.legend()\n",
    "plt.show()"
   ]
  },
  {
   "cell_type": "markdown",
   "metadata": {},
   "source": [
    "*** Multiple Linear Regression UMC ***"
   ]
  },
  {
   "cell_type": "code",
   "execution_count": 200,
   "metadata": {},
   "outputs": [
    {
     "data": {
      "text/plain": [
       "array([[-0.0229202 ],\n",
       "       [ 0.37619461],\n",
       "       [-0.08522727],\n",
       "       [ 0.11456177],\n",
       "       [ 0.06811146],\n",
       "       [-0.05913043],\n",
       "       [-0.14356131],\n",
       "       [-0.07122302],\n",
       "       [ 0.16653757],\n",
       "       [ 0.15338645],\n",
       "       [ 0.21416235],\n",
       "       [-0.16785206],\n",
       "       [ 0.09287749],\n",
       "       [ 0.45464025],\n",
       "       [ 0.15949821],\n",
       "       [ 0.05780526],\n",
       "       [ 0.12215079],\n",
       "       [ 0.12135417],\n",
       "       [ 0.12517418]])"
      ]
     },
     "execution_count": 200,
     "metadata": {},
     "output_type": "execute_result"
    }
   ],
   "source": [
    "x_amd = AMD.pctRevChange[1:].to_numpy().reshape(-1,1)\n",
    "x_amd"
   ]
  },
  {
   "cell_type": "code",
   "execution_count": 201,
   "metadata": {},
   "outputs": [
    {
     "data": {
      "text/plain": [
       "array([[ 0.06778309],\n",
       "       [ 0.09932786],\n",
       "       [ 0.02496603],\n",
       "       [-0.13504557],\n",
       "       [ 0.0683908 ],\n",
       "       [ 0.03604088],\n",
       "       [-0.16199377],\n",
       "       [ 0.02891367],\n",
       "       [ 0.93396226],\n",
       "       [-0.50036326],\n",
       "       [ 0.05463232],\n",
       "       [ 0.02737837],\n",
       "       [-0.06192485],\n",
       "       [ 0.70570202],\n",
       "       [-0.01329978],\n",
       "       [-0.03642987],\n",
       "       [ 0.01575299],\n",
       "       [ 0.15831266],\n",
       "       [ 0.14663668]])"
      ]
     },
     "execution_count": 201,
     "metadata": {},
     "output_type": "execute_result"
    }
   ],
   "source": [
    "x_qcom"
   ]
  },
  {
   "cell_type": "code",
   "execution_count": 202,
   "metadata": {},
   "outputs": [
    {
     "data": {
      "text/plain": [
       "array([[ 0.06778309, -0.0229202 ],\n",
       "       [ 0.09932786,  0.37619461],\n",
       "       [ 0.02496603, -0.08522727],\n",
       "       [-0.13504557,  0.11456177],\n",
       "       [ 0.0683908 ,  0.06811146],\n",
       "       [ 0.03604088, -0.05913043],\n",
       "       [-0.16199377, -0.14356131],\n",
       "       [ 0.02891367, -0.07122302],\n",
       "       [ 0.93396226,  0.16653757],\n",
       "       [-0.50036326,  0.15338645],\n",
       "       [ 0.05463232,  0.21416235],\n",
       "       [ 0.02737837, -0.16785206],\n",
       "       [-0.06192485,  0.09287749],\n",
       "       [ 0.70570202,  0.45464025],\n",
       "       [-0.01329978,  0.15949821],\n",
       "       [-0.03642987,  0.05780526],\n",
       "       [ 0.01575299,  0.12215079],\n",
       "       [ 0.15831266,  0.12135417],\n",
       "       [ 0.14663668,  0.12517418]])"
      ]
     },
     "execution_count": 202,
     "metadata": {},
     "output_type": "execute_result"
    }
   ],
   "source": [
    "x_combined = np.hstack((x_qcom, x_amd))\n",
    "x_combined"
   ]
  },
  {
   "cell_type": "code",
   "execution_count": 203,
   "metadata": {},
   "outputs": [
    {
     "data": {
      "text/plain": [
       "0.21390745886112794"
      ]
     },
     "execution_count": 203,
     "metadata": {},
     "output_type": "execute_result"
    }
   ],
   "source": [
    "model_linear = LinearRegression()\n",
    "reg = model_linear.fit(x_combined,y_umc)\n",
    "r_sq = model_linear.score(x_combined, y_umc)\n",
    "r_sq"
   ]
  },
  {
   "cell_type": "code",
   "execution_count": 204,
   "metadata": {},
   "outputs": [
    {
     "data": {
      "text/plain": [
       "array([ 0.00994953,  0.06696201,  0.00023523,  0.02499847,  0.02281167,\n",
       "        0.00415667, -0.01201434,  0.00229672,  0.05529625,  0.02263184,\n",
       "        0.04313119, -0.01137541,  0.02350832,  0.091059  ,  0.03395623,\n",
       "        0.01910549,  0.02930869,  0.03225831,  0.03254671])"
      ]
     },
     "execution_count": 204,
     "metadata": {},
     "output_type": "execute_result"
    }
   ],
   "source": [
    "reg.predict(x_combined)"
   ]
  },
  {
   "cell_type": "code",
   "execution_count": 205,
   "metadata": {},
   "outputs": [
    {
     "data": {
      "image/png": "[encoded data removed]",
      "text/plain": [
       "<Figure size 432x288 with 1 Axes>"
      ]
     },
     "metadata": {
      "needs_background": "light"
     },
     "output_type": "display_data"
    }
   ],
   "source": [
    "plt.plot(list(range(len(x_combined))), reg.predict(x_combined), label = 'Predicted UMC Rev')\n",
    "plt.plot(list(range(len(x_combined))), y_umc, label = 'Actual UMC Rev')\n",
    "plt.legend()\n",
    "plt.show()"
   ]
  },
  {
   "cell_type": "markdown",
   "metadata": {},
   "source": [
    "*** Multiple Linear Regression UMC get_revenue_list method ***"
   ]
  },
  {
   "cell_type": "code",
   "execution_count": 209,
   "metadata": {},
   "outputs": [
    {
     "name": "stderr",
     "output_type": "stream",
     "text": [
      "/Users/benjaminliang/Documents/Intel-Project/stocks.py:36: SettingWithCopyWarning: \n",
      "A value is trying to be set on a copy of a slice from a DataFrame\n",
      "\n",
      "See the caveats in the documentation: https://pandas.pydata.org/pandas-docs/stable/user_guide/indexing.html#returning-a-view-versus-a-copy\n",
      "  revenue_df = quarter_data[[\"fiscalDateEnding\", \"reportedCurrency\", \"totalRevenue\"]]\n",
      "/Users/benjaminliang/Documents/Intel-Project/stocks.py:39: SettingWithCopyWarning: \n",
      "A value is trying to be set on a copy of a slice from a DataFrame.\n",
      "Try using .loc[row_indexer,col_indexer] = value instead\n",
      "\n",
      "See the caveats in the documentation: https://pandas.pydata.org/pandas-docs/stable/user_guide/indexing.html#returning-a-view-versus-a-copy\n",
      "  revenue_df.drop([\"fiscalDateEnding\"], axis=1, inplace=True)\n",
      "/Users/benjaminliang/Documents/Intel-Project/stocks.py:53: SettingWithCopyWarning: \n",
      "A value is trying to be set on a copy of a slice from a DataFrame\n",
      "\n",
      "See the caveats in the documentation: https://pandas.pydata.org/pandas-docs/stable/user_guide/indexing.html#returning-a-view-versus-a-copy\n",
      "  if ticker_df[\"reportedCurrency\"][0] == \"TWD\":\n",
      "/Users/benjaminliang/Documents/Intel-Project/stocks.py:36: SettingWithCopyWarning: \n",
      "A value is trying to be set on a copy of a slice from a DataFrame\n",
      "\n",
      "See the caveats in the documentation: https://pandas.pydata.org/pandas-docs/stable/user_guide/indexing.html#returning-a-view-versus-a-copy\n",
      "  revenue_df = quarter_data[[\"fiscalDateEnding\", \"reportedCurrency\", \"totalRevenue\"]]\n",
      "/Users/benjaminliang/Documents/Intel-Project/stocks.py:39: SettingWithCopyWarning: \n",
      "A value is trying to be set on a copy of a slice from a DataFrame.\n",
      "Try using .loc[row_indexer,col_indexer] = value instead\n",
      "\n",
      "See the caveats in the documentation: https://pandas.pydata.org/pandas-docs/stable/user_guide/indexing.html#returning-a-view-versus-a-copy\n",
      "  revenue_df.drop([\"fiscalDateEnding\"], axis=1, inplace=True)\n",
      "/Users/benjaminliang/Documents/Intel-Project/stocks.py:53: SettingWithCopyWarning: \n",
      "A value is trying to be set on a copy of a slice from a DataFrame\n",
      "\n",
      "See the caveats in the documentation: https://pandas.pydata.org/pandas-docs/stable/user_guide/indexing.html#returning-a-view-versus-a-copy\n",
      "  if ticker_df[\"reportedCurrency\"][0] == \"TWD\":\n"
     ]
    }
   ],
   "source": [
    "UMC_customers = stocks.get_revenue_list(stocks.top_customers['UMC'])"
   ]
  },
  {
   "cell_type": "code",
   "execution_count": 212,
   "metadata": {},
   "outputs": [],
   "source": [
    "UMC_customers = UMC_customers.iloc[::-1]"
   ]
  },
  {
   "cell_type": "code",
   "execution_count": 214,
   "metadata": {},
   "outputs": [
    {
     "name": "stderr",
     "output_type": "stream",
     "text": [
      "/var/folders/wz/pp_vd4r15f15t9yc2f0gzn_c0000gn/T/ipykernel_54058/2510613649.py:1: SettingWithCopyWarning: \n",
      "A value is trying to be set on a copy of a slice from a DataFrame.\n",
      "Try using .loc[row_indexer,col_indexer] = value instead\n",
      "\n",
      "See the caveats in the documentation: https://pandas.pydata.org/pandas-docs/stable/user_guide/indexing.html#returning-a-view-versus-a-copy\n",
      "  UMC_customers[\"qcom_revChange\"] = pd.to_numeric(UMC_customers.qcom_revenue).diff()\n",
      "/var/folders/wz/pp_vd4r15f15t9yc2f0gzn_c0000gn/T/ipykernel_54058/2510613649.py:2: SettingWithCopyWarning: \n",
      "A value is trying to be set on a copy of a slice from a DataFrame.\n",
      "Try using .loc[row_indexer,col_indexer] = value instead\n",
      "\n",
      "See the caveats in the documentation: https://pandas.pydata.org/pandas-docs/stable/user_guide/indexing.html#returning-a-view-versus-a-copy\n",
      "  UMC_customers[\"qcom_pctRevChange\"] = pd.to_numeric(UMC_customers.qcom_revenue).pct_change()\n",
      "/var/folders/wz/pp_vd4r15f15t9yc2f0gzn_c0000gn/T/ipykernel_54058/2510613649.py:3: SettingWithCopyWarning: \n",
      "A value is trying to be set on a copy of a slice from a DataFrame.\n",
      "Try using .loc[row_indexer,col_indexer] = value instead\n",
      "\n",
      "See the caveats in the documentation: https://pandas.pydata.org/pandas-docs/stable/user_guide/indexing.html#returning-a-view-versus-a-copy\n",
      "  UMC_customers[\"amd_revChange\"] = pd.to_numeric(UMC_customers.amd_revenue).diff()\n",
      "/var/folders/wz/pp_vd4r15f15t9yc2f0gzn_c0000gn/T/ipykernel_54058/2510613649.py:4: SettingWithCopyWarning: \n",
      "A value is trying to be set on a copy of a slice from a DataFrame.\n",
      "Try using .loc[row_indexer,col_indexer] = value instead\n",
      "\n",
      "See the caveats in the documentation: https://pandas.pydata.org/pandas-docs/stable/user_guide/indexing.html#returning-a-view-versus-a-copy\n",
      "  UMC_customers[\"amd_pctRevChange\"] = pd.to_numeric(UMC_customers.amd_revenue).pct_change()\n"
     ]
    }
   ],
   "source": [
    "UMC_customers[\"qcom_revChange\"] = pd.to_numeric(UMC_customers.qcom_revenue).diff()\n",
    "UMC_customers[\"qcom_pctRevChange\"] = pd.to_numeric(UMC_customers.qcom_revenue).pct_change()\n",
    "UMC_customers[\"amd_revChange\"] = pd.to_numeric(UMC_customers.amd_revenue).diff()\n",
    "UMC_customers[\"amd_pctRevChange\"] = pd.to_numeric(UMC_customers.amd_revenue).pct_change()"
   ]
  },
  {
   "cell_type": "code",
   "execution_count": 215,
   "metadata": {},
   "outputs": [
    {
     "data": {
      "text/html": [
       "<div>\n",
       "<style scoped>\n",
       "    .dataframe tbody tr th:only-of-type {\n",
       "        vertical-align: middle;\n",
       "    }\n",
       "\n",
       "    .dataframe tbody tr th {\n",
       "        vertical-align: top;\n",
       "    }\n",
       "\n",
       "    .dataframe thead th {\n",
       "        text-align: right;\n",
       "    }\n",
       "</style>\n",
       "<table border=\"1\" class=\"dataframe\">\n",
       "  <thead>\n",
       "    <tr style=\"text-align: right;\">\n",
       "      <th></th>\n",
       "      <th>year</th>\n",
       "      <th>quarter</th>\n",
       "      <th>reportedCurrency</th>\n",
       "      <th>qcom_revenue</th>\n",
       "      <th>amd_revenue</th>\n",
       "      <th>qcom_revChange</th>\n",
       "      <th>qcom_pctRevChange</th>\n",
       "      <th>amd_revChange</th>\n",
       "      <th>amd_pctRevChange</th>\n",
       "    </tr>\n",
       "  </thead>\n",
       "  <tbody>\n",
       "    <tr>\n",
       "      <th>19</th>\n",
       "      <td>2017</td>\n",
       "      <td>1</td>\n",
       "      <td>USD</td>\n",
       "      <td>5016000000</td>\n",
       "      <td>1178000000</td>\n",
       "      <td>NaN</td>\n",
       "      <td>NaN</td>\n",
       "      <td>NaN</td>\n",
       "      <td>NaN</td>\n",
       "    </tr>\n",
       "    <tr>\n",
       "      <th>18</th>\n",
       "      <td>2017</td>\n",
       "      <td>2</td>\n",
       "      <td>USD</td>\n",
       "      <td>5356000000</td>\n",
       "      <td>1151000000</td>\n",
       "      <td>3.400000e+08</td>\n",
       "      <td>0.067783</td>\n",
       "      <td>-27000000.0</td>\n",
       "      <td>-0.022920</td>\n",
       "    </tr>\n",
       "    <tr>\n",
       "      <th>17</th>\n",
       "      <td>2017</td>\n",
       "      <td>3</td>\n",
       "      <td>USD</td>\n",
       "      <td>5888000000</td>\n",
       "      <td>1584000000</td>\n",
       "      <td>5.320000e+08</td>\n",
       "      <td>0.099328</td>\n",
       "      <td>433000000.0</td>\n",
       "      <td>0.376195</td>\n",
       "    </tr>\n",
       "    <tr>\n",
       "      <th>16</th>\n",
       "      <td>2017</td>\n",
       "      <td>4</td>\n",
       "      <td>USD</td>\n",
       "      <td>6035000000</td>\n",
       "      <td>1449000000</td>\n",
       "      <td>1.470000e+08</td>\n",
       "      <td>0.024966</td>\n",
       "      <td>-135000000.0</td>\n",
       "      <td>-0.085227</td>\n",
       "    </tr>\n",
       "    <tr>\n",
       "      <th>15</th>\n",
       "      <td>2018</td>\n",
       "      <td>1</td>\n",
       "      <td>USD</td>\n",
       "      <td>5220000000</td>\n",
       "      <td>1615000000</td>\n",
       "      <td>-8.150000e+08</td>\n",
       "      <td>-0.135046</td>\n",
       "      <td>166000000.0</td>\n",
       "      <td>0.114562</td>\n",
       "    </tr>\n",
       "    <tr>\n",
       "      <th>14</th>\n",
       "      <td>2018</td>\n",
       "      <td>2</td>\n",
       "      <td>USD</td>\n",
       "      <td>5577000000</td>\n",
       "      <td>1725000000</td>\n",
       "      <td>3.570000e+08</td>\n",
       "      <td>0.068391</td>\n",
       "      <td>110000000.0</td>\n",
       "      <td>0.068111</td>\n",
       "    </tr>\n",
       "    <tr>\n",
       "      <th>13</th>\n",
       "      <td>2018</td>\n",
       "      <td>3</td>\n",
       "      <td>USD</td>\n",
       "      <td>5778000000</td>\n",
       "      <td>1623000000</td>\n",
       "      <td>2.010000e+08</td>\n",
       "      <td>0.036041</td>\n",
       "      <td>-102000000.0</td>\n",
       "      <td>-0.059130</td>\n",
       "    </tr>\n",
       "    <tr>\n",
       "      <th>12</th>\n",
       "      <td>2018</td>\n",
       "      <td>4</td>\n",
       "      <td>USD</td>\n",
       "      <td>4842000000</td>\n",
       "      <td>1390000000</td>\n",
       "      <td>-9.360000e+08</td>\n",
       "      <td>-0.161994</td>\n",
       "      <td>-233000000.0</td>\n",
       "      <td>-0.143561</td>\n",
       "    </tr>\n",
       "    <tr>\n",
       "      <th>11</th>\n",
       "      <td>2019</td>\n",
       "      <td>1</td>\n",
       "      <td>USD</td>\n",
       "      <td>4982000000</td>\n",
       "      <td>1291000000</td>\n",
       "      <td>1.400000e+08</td>\n",
       "      <td>0.028914</td>\n",
       "      <td>-99000000.0</td>\n",
       "      <td>-0.071223</td>\n",
       "    </tr>\n",
       "    <tr>\n",
       "      <th>10</th>\n",
       "      <td>2019</td>\n",
       "      <td>2</td>\n",
       "      <td>USD</td>\n",
       "      <td>9635000000</td>\n",
       "      <td>1506000000</td>\n",
       "      <td>4.653000e+09</td>\n",
       "      <td>0.933962</td>\n",
       "      <td>215000000.0</td>\n",
       "      <td>0.166538</td>\n",
       "    </tr>\n",
       "    <tr>\n",
       "      <th>9</th>\n",
       "      <td>2019</td>\n",
       "      <td>3</td>\n",
       "      <td>USD</td>\n",
       "      <td>4814000000</td>\n",
       "      <td>1737000000</td>\n",
       "      <td>-4.821000e+09</td>\n",
       "      <td>-0.500363</td>\n",
       "      <td>231000000.0</td>\n",
       "      <td>0.153386</td>\n",
       "    </tr>\n",
       "    <tr>\n",
       "      <th>8</th>\n",
       "      <td>2019</td>\n",
       "      <td>4</td>\n",
       "      <td>USD</td>\n",
       "      <td>5077000000</td>\n",
       "      <td>2109000000</td>\n",
       "      <td>2.630000e+08</td>\n",
       "      <td>0.054632</td>\n",
       "      <td>372000000.0</td>\n",
       "      <td>0.214162</td>\n",
       "    </tr>\n",
       "    <tr>\n",
       "      <th>7</th>\n",
       "      <td>2020</td>\n",
       "      <td>1</td>\n",
       "      <td>USD</td>\n",
       "      <td>5216000000</td>\n",
       "      <td>1755000000</td>\n",
       "      <td>1.390000e+08</td>\n",
       "      <td>0.027378</td>\n",
       "      <td>-354000000.0</td>\n",
       "      <td>-0.167852</td>\n",
       "    </tr>\n",
       "    <tr>\n",
       "      <th>6</th>\n",
       "      <td>2020</td>\n",
       "      <td>2</td>\n",
       "      <td>USD</td>\n",
       "      <td>4893000000</td>\n",
       "      <td>1918000000</td>\n",
       "      <td>-3.230000e+08</td>\n",
       "      <td>-0.061925</td>\n",
       "      <td>163000000.0</td>\n",
       "      <td>0.092877</td>\n",
       "    </tr>\n",
       "    <tr>\n",
       "      <th>5</th>\n",
       "      <td>2020</td>\n",
       "      <td>3</td>\n",
       "      <td>USD</td>\n",
       "      <td>8346000000</td>\n",
       "      <td>2790000000</td>\n",
       "      <td>3.453000e+09</td>\n",
       "      <td>0.705702</td>\n",
       "      <td>872000000.0</td>\n",
       "      <td>0.454640</td>\n",
       "    </tr>\n",
       "    <tr>\n",
       "      <th>4</th>\n",
       "      <td>2020</td>\n",
       "      <td>4</td>\n",
       "      <td>USD</td>\n",
       "      <td>8235000000</td>\n",
       "      <td>3235000000</td>\n",
       "      <td>-1.110000e+08</td>\n",
       "      <td>-0.013300</td>\n",
       "      <td>445000000.0</td>\n",
       "      <td>0.159498</td>\n",
       "    </tr>\n",
       "    <tr>\n",
       "      <th>3</th>\n",
       "      <td>2021</td>\n",
       "      <td>1</td>\n",
       "      <td>USD</td>\n",
       "      <td>7935000000</td>\n",
       "      <td>3422000000</td>\n",
       "      <td>-3.000000e+08</td>\n",
       "      <td>-0.036430</td>\n",
       "      <td>187000000.0</td>\n",
       "      <td>0.057805</td>\n",
       "    </tr>\n",
       "    <tr>\n",
       "      <th>2</th>\n",
       "      <td>2021</td>\n",
       "      <td>2</td>\n",
       "      <td>USD</td>\n",
       "      <td>8060000000</td>\n",
       "      <td>3840000000</td>\n",
       "      <td>1.250000e+08</td>\n",
       "      <td>0.015753</td>\n",
       "      <td>418000000.0</td>\n",
       "      <td>0.122151</td>\n",
       "    </tr>\n",
       "    <tr>\n",
       "      <th>1</th>\n",
       "      <td>2021</td>\n",
       "      <td>3</td>\n",
       "      <td>USD</td>\n",
       "      <td>9336000000</td>\n",
       "      <td>4306000000</td>\n",
       "      <td>1.276000e+09</td>\n",
       "      <td>0.158313</td>\n",
       "      <td>466000000.0</td>\n",
       "      <td>0.121354</td>\n",
       "    </tr>\n",
       "    <tr>\n",
       "      <th>0</th>\n",
       "      <td>2021</td>\n",
       "      <td>4</td>\n",
       "      <td>USD</td>\n",
       "      <td>10705000000</td>\n",
       "      <td>4845000000</td>\n",
       "      <td>1.369000e+09</td>\n",
       "      <td>0.146637</td>\n",
       "      <td>539000000.0</td>\n",
       "      <td>0.125174</td>\n",
       "    </tr>\n",
       "  </tbody>\n",
       "</table>\n",
       "</div>"
      ],
      "text/plain": [
       "    year  quarter reportedCurrency  qcom_revenue  amd_revenue  qcom_revChange  \\\n",
       "19  2017        1              USD    5016000000   1178000000             NaN   \n",
       "18  2017        2              USD    5356000000   1151000000    3.400000e+08   \n",
       "17  2017        3              USD    5888000000   1584000000    5.320000e+08   \n",
       "16  2017        4              USD    6035000000   1449000000    1.470000e+08   \n",
       "15  2018        1              USD    5220000000   1615000000   -8.150000e+08   \n",
       "14  2018        2              USD    5577000000   1725000000    3.570000e+08   \n",
       "13  2018        3              USD    5778000000   1623000000    2.010000e+08   \n",
       "12  2018        4              USD    4842000000   1390000000   -9.360000e+08   \n",
       "11  2019        1              USD    4982000000   1291000000    1.400000e+08   \n",
       "10  2019        2              USD    9635000000   1506000000    4.653000e+09   \n",
       "9   2019        3              USD    4814000000   1737000000   -4.821000e+09   \n",
       "8   2019        4              USD    5077000000   2109000000    2.630000e+08   \n",
       "7   2020        1              USD    5216000000   1755000000    1.390000e+08   \n",
       "6   2020        2              USD    4893000000   1918000000   -3.230000e+08   \n",
       "5   2020        3              USD    8346000000   2790000000    3.453000e+09   \n",
       "4   2020        4              USD    8235000000   3235000000   -1.110000e+08   \n",
       "3   2021        1              USD    7935000000   3422000000   -3.000000e+08   \n",
       "2   2021        2              USD    8060000000   3840000000    1.250000e+08   \n",
       "1   2021        3              USD    9336000000   4306000000    1.276000e+09   \n",
       "0   2021        4              USD   10705000000   4845000000    1.369000e+09   \n",
       "\n",
       "    qcom_pctRevChange  amd_revChange  amd_pctRevChange  \n",
       "19                NaN            NaN               NaN  \n",
       "18           0.067783    -27000000.0         -0.022920  \n",
       "17           0.099328    433000000.0          0.376195  \n",
       "16           0.024966   -135000000.0         -0.085227  \n",
       "15          -0.135046    166000000.0          0.114562  \n",
       "14           0.068391    110000000.0          0.068111  \n",
       "13           0.036041   -102000000.0         -0.059130  \n",
       "12          -0.161994   -233000000.0         -0.143561  \n",
       "11           0.028914    -99000000.0         -0.071223  \n",
       "10           0.933962    215000000.0          0.166538  \n",
       "9           -0.500363    231000000.0          0.153386  \n",
       "8            0.054632    372000000.0          0.214162  \n",
       "7            0.027378   -354000000.0         -0.167852  \n",
       "6           -0.061925    163000000.0          0.092877  \n",
       "5            0.705702    872000000.0          0.454640  \n",
       "4           -0.013300    445000000.0          0.159498  \n",
       "3           -0.036430    187000000.0          0.057805  \n",
       "2            0.015753    418000000.0          0.122151  \n",
       "1            0.158313    466000000.0          0.121354  \n",
       "0            0.146637    539000000.0          0.125174  "
      ]
     },
     "execution_count": 215,
     "metadata": {},
     "output_type": "execute_result"
    }
   ],
   "source": [
    "UMC_customers"
   ]
  },
  {
   "cell_type": "code",
   "execution_count": 217,
   "metadata": {},
   "outputs": [
    {
     "data": {
      "text/plain": [
       "array([[ 0.06778309, -0.0229202 ],\n",
       "       [ 0.09932786,  0.37619461],\n",
       "       [ 0.02496603, -0.08522727],\n",
       "       [-0.13504557,  0.11456177],\n",
       "       [ 0.0683908 ,  0.06811146],\n",
       "       [ 0.03604088, -0.05913043],\n",
       "       [-0.16199377, -0.14356131],\n",
       "       [ 0.02891367, -0.07122302],\n",
       "       [ 0.93396226,  0.16653757],\n",
       "       [-0.50036326,  0.15338645],\n",
       "       [ 0.05463232,  0.21416235],\n",
       "       [ 0.02737837, -0.16785206],\n",
       "       [-0.06192485,  0.09287749],\n",
       "       [ 0.70570202,  0.45464025],\n",
       "       [-0.01329978,  0.15949821],\n",
       "       [-0.03642987,  0.05780526],\n",
       "       [ 0.01575299,  0.12215079],\n",
       "       [ 0.15831266,  0.12135417],\n",
       "       [ 0.14663668,  0.12517418]])"
      ]
     },
     "execution_count": 217,
     "metadata": {},
     "output_type": "execute_result"
    }
   ],
   "source": [
    "x_qcom = UMC_customers.qcom_pctRevChange[1:].to_numpy().reshape(-1,1)\n",
    "x_amd = UMC_customers.amd_pctRevChange[1:].to_numpy().reshape(-1,1)\n",
    "x_combined = np.hstack((x_qcom, x_amd))\n",
    "x_combined"
   ]
  },
  {
   "cell_type": "code",
   "execution_count": 218,
   "metadata": {},
   "outputs": [
    {
     "data": {
      "text/plain": [
       "0.21390745886112794"
      ]
     },
     "execution_count": 218,
     "metadata": {},
     "output_type": "execute_result"
    }
   ],
   "source": [
    "model_linear = LinearRegression()\n",
    "reg = model_linear.fit(x_combined,y_umc)\n",
    "r_sq = model_linear.score(x_combined, y_umc)\n",
    "r_sq"
   ]
  },
  {
   "cell_type": "code",
   "execution_count": 219,
   "metadata": {},
   "outputs": [
    {
     "data": {
      "text/plain": [
       "array([ 0.00994953,  0.06696201,  0.00023523,  0.02499847,  0.02281167,\n",
       "        0.00415667, -0.01201434,  0.00229672,  0.05529625,  0.02263184,\n",
       "        0.04313119, -0.01137541,  0.02350832,  0.091059  ,  0.03395623,\n",
       "        0.01910549,  0.02930869,  0.03225831,  0.03254671])"
      ]
     },
     "execution_count": 219,
     "metadata": {},
     "output_type": "execute_result"
    }
   ],
   "source": [
    "reg.predict(x_combined)"
   ]
  },
  {
   "cell_type": "code",
   "execution_count": 220,
   "metadata": {},
   "outputs": [
    {
     "data": {
      "image/png": "[encoded data removed]",
      "text/plain": [
       "<Figure size 432x288 with 1 Axes>"
      ]
     },
     "metadata": {
      "needs_background": "light"
     },
     "output_type": "display_data"
    }
   ],
   "source": [
    "plt.plot(list(range(len(x_combined))), reg.predict(x_combined), label = 'Predicted UMC Rev')\n",
    "plt.plot(list(range(len(x_combined))), y_umc, label = 'Actual UMC Rev')\n",
    "plt.legend()\n",
    "plt.show()"
   ]
  },
  {
   "cell_type": "markdown",
   "metadata": {},
   "source": [
    "*** Multiple Regression TSMC ***"
   ]
  },
  {
   "cell_type": "code",
   "execution_count": 156,
   "metadata": {},
   "outputs": [],
   "source": [
    "import scraper"
   ]
  },
  {
   "cell_type": "code",
   "execution_count": 153,
   "metadata": {},
   "outputs": [
    {
     "data": {
      "text/html": [
       "<div>\n",
       "<style scoped>\n",
       "    .dataframe tbody tr th:only-of-type {\n",
       "        vertical-align: middle;\n",
       "    }\n",
       "\n",
       "    .dataframe tbody tr th {\n",
       "        vertical-align: top;\n",
       "    }\n",
       "\n",
       "    .dataframe thead th {\n",
       "        text-align: right;\n",
       "    }\n",
       "</style>\n",
       "<table border=\"1\" class=\"dataframe\">\n",
       "  <thead>\n",
       "    <tr style=\"text-align: right;\">\n",
       "      <th></th>\n",
       "    </tr>\n",
       "  </thead>\n",
       "  <tbody>\n",
       "  </tbody>\n",
       "</table>\n",
       "</div>"
      ],
      "text/plain": [
       "Empty DataFrame\n",
       "Columns: []\n",
       "Index: []"
      ]
     },
     "execution_count": 153,
     "metadata": {},
     "output_type": "execute_result"
    }
   ],
   "source": [
    "TSMC = stocks.get_revenue('TSMC')"
   ]
  },
  {
   "cell_type": "code",
   "execution_count": 155,
   "metadata": {},
   "outputs": [
    {
     "name": "stderr",
     "output_type": "stream",
     "text": [
      "/Users/benjaminliang/Documents/Intel-Project/stocks.py:36: SettingWithCopyWarning: \n",
      "A value is trying to be set on a copy of a slice from a DataFrame\n",
      "\n",
      "See the caveats in the documentation: https://pandas.pydata.org/pandas-docs/stable/user_guide/indexing.html#returning-a-view-versus-a-copy\n",
      "  revenue_df.drop([\"fiscalDateEnding\"], axis=1, inplace=True)\n",
      "/Users/benjaminliang/Documents/Intel-Project/stocks.py:39: SettingWithCopyWarning: \n",
      "A value is trying to be set on a copy of a slice from a DataFrame.\n",
      "Try using .loc[row_indexer,col_indexer] = value instead\n",
      "\n",
      "See the caveats in the documentation: https://pandas.pydata.org/pandas-docs/stable/user_guide/indexing.html#returning-a-view-versus-a-copy\n",
      "  revenue_df['totalRevenue'] = pd.to_numeric(revenue_df['totalRevenue'], errors='ignore')\n",
      "/Users/benjaminliang/Documents/Intel-Project/stocks.py:36: SettingWithCopyWarning: \n",
      "A value is trying to be set on a copy of a slice from a DataFrame\n",
      "\n",
      "See the caveats in the documentation: https://pandas.pydata.org/pandas-docs/stable/user_guide/indexing.html#returning-a-view-versus-a-copy\n",
      "  revenue_df.drop([\"fiscalDateEnding\"], axis=1, inplace=True)\n",
      "/Users/benjaminliang/Documents/Intel-Project/stocks.py:38: SettingWithCopyWarning: \n",
      "A value is trying to be set on a copy of a slice from a DataFrame.\n",
      "Try using .loc[row_indexer,col_indexer] = value instead\n",
      "\n",
      "See the caveats in the documentation: https://pandas.pydata.org/pandas-docs/stable/user_guide/indexing.html#returning-a-view-versus-a-copy\n",
      "  revenue_df['quarter'] = [q + 1 for q in revenue_df['quarter']]\n",
      "/Users/benjaminliang/Documents/Intel-Project/stocks.py:39: SettingWithCopyWarning: \n",
      "A value is trying to be set on a copy of a slice from a DataFrame.\n",
      "Try using .loc[row_indexer,col_indexer] = value instead\n",
      "\n",
      "See the caveats in the documentation: https://pandas.pydata.org/pandas-docs/stable/user_guide/indexing.html#returning-a-view-versus-a-copy\n",
      "  revenue_df['totalRevenue'] = pd.to_numeric(revenue_df['totalRevenue'], errors='ignore')\n",
      "/Users/benjaminliang/Documents/Intel-Project/stocks.py:53: SettingWithCopyWarning: \n",
      "A value is trying to be set on a copy of a slice from a DataFrame\n",
      "\n",
      "See the caveats in the documentation: https://pandas.pydata.org/pandas-docs/stable/user_guide/indexing.html#returning-a-view-versus-a-copy\n",
      "  ticker_df.rename({\"totalRevenue\":f'{ticker.lower()}_revenue'}, axis=1, inplace=True)\n",
      "/Users/benjaminliang/Documents/Intel-Project/stocks.py:36: SettingWithCopyWarning: \n",
      "A value is trying to be set on a copy of a slice from a DataFrame\n",
      "\n",
      "See the caveats in the documentation: https://pandas.pydata.org/pandas-docs/stable/user_guide/indexing.html#returning-a-view-versus-a-copy\n",
      "  revenue_df.drop([\"fiscalDateEnding\"], axis=1, inplace=True)\n",
      "/Users/benjaminliang/Documents/Intel-Project/stocks.py:38: SettingWithCopyWarning: \n",
      "A value is trying to be set on a copy of a slice from a DataFrame.\n",
      "Try using .loc[row_indexer,col_indexer] = value instead\n",
      "\n",
      "See the caveats in the documentation: https://pandas.pydata.org/pandas-docs/stable/user_guide/indexing.html#returning-a-view-versus-a-copy\n",
      "  revenue_df['quarter'] = [q + 1 for q in revenue_df['quarter']]\n",
      "/Users/benjaminliang/Documents/Intel-Project/stocks.py:39: SettingWithCopyWarning: \n",
      "A value is trying to be set on a copy of a slice from a DataFrame.\n",
      "Try using .loc[row_indexer,col_indexer] = value instead\n",
      "\n",
      "See the caveats in the documentation: https://pandas.pydata.org/pandas-docs/stable/user_guide/indexing.html#returning-a-view-versus-a-copy\n",
      "  revenue_df['totalRevenue'] = pd.to_numeric(revenue_df['totalRevenue'], errors='ignore')\n",
      "/Users/benjaminliang/Documents/Intel-Project/stocks.py:53: SettingWithCopyWarning: \n",
      "A value is trying to be set on a copy of a slice from a DataFrame\n",
      "\n",
      "See the caveats in the documentation: https://pandas.pydata.org/pandas-docs/stable/user_guide/indexing.html#returning-a-view-versus-a-copy\n",
      "  ticker_df.rename({\"totalRevenue\":f'{ticker.lower()}_revenue'}, axis=1, inplace=True)\n",
      "/Users/benjaminliang/Documents/Intel-Project/stocks.py:36: SettingWithCopyWarning: \n",
      "A value is trying to be set on a copy of a slice from a DataFrame\n",
      "\n",
      "See the caveats in the documentation: https://pandas.pydata.org/pandas-docs/stable/user_guide/indexing.html#returning-a-view-versus-a-copy\n",
      "  revenue_df.drop([\"fiscalDateEnding\"], axis=1, inplace=True)\n",
      "/Users/benjaminliang/Documents/Intel-Project/stocks.py:39: SettingWithCopyWarning: \n",
      "A value is trying to be set on a copy of a slice from a DataFrame.\n",
      "Try using .loc[row_indexer,col_indexer] = value instead\n",
      "\n",
      "See the caveats in the documentation: https://pandas.pydata.org/pandas-docs/stable/user_guide/indexing.html#returning-a-view-versus-a-copy\n",
      "  revenue_df['totalRevenue'] = pd.to_numeric(revenue_df['totalRevenue'], errors='ignore')\n",
      "/Users/benjaminliang/Documents/Intel-Project/stocks.py:53: SettingWithCopyWarning: \n",
      "A value is trying to be set on a copy of a slice from a DataFrame\n",
      "\n",
      "See the caveats in the documentation: https://pandas.pydata.org/pandas-docs/stable/user_guide/indexing.html#returning-a-view-versus-a-copy\n",
      "  ticker_df.rename({\"totalRevenue\":f'{ticker.lower()}_revenue'}, axis=1, inplace=True)\n"
     ]
    }
   ],
   "source": [
    "TSMC_customers = stocks.get_revenue_list('TSMC')"
   ]
  },
  {
   "cell_type": "markdown",
   "metadata": {},
   "source": [
    "*** Pearson's Correlation UMC ***"
   ]
  },
  {
   "cell_type": "code",
   "execution_count": 60,
   "metadata": {},
   "outputs": [],
   "source": [
    "import scipy"
   ]
  },
  {
   "cell_type": "code",
   "execution_count": 67,
   "metadata": {},
   "outputs": [
    {
     "name": "stdout",
     "output_type": "stream",
     "text": [
      "[-0.0229202   0.37619461 -0.08522727  0.11456177  0.06811146 -0.05913043\n",
      " -0.14356131 -0.07122302  0.16653757  0.15338645  0.21416235 -0.16785206\n",
      "  0.09287749  0.45464025  0.15949821  0.05780526  0.12215079  0.12135417\n",
      "  0.12517418]\n",
      "[-0.0041584   0.01169679 -0.02831772  0.02365403  0.00486232  0.0453084\n",
      " -0.09824279 -0.08261467  0.10582909  0.04738273  0.1089239   0.01000713\n",
      "  0.05011878  0.01090865  0.00949175  0.03975285  0.08091233  0.09819599\n",
      "  0.05711144]\n"
     ]
    }
   ],
   "source": [
    "x_amd = AMD.pctRevChange[1:].to_numpy().reshape(-1,1)\n",
    "y_umc = UMC.pctRevChange[2:].to_numpy().reshape(-1,1)\n",
    "x_amd = np.squeeze(np.asarray(x_amd))\n",
    "y_umc = np.squeeze(np.asarray(y_umc))\n",
    "print(x_amd)\n",
    "print(y_umc)"
   ]
  },
  {
   "cell_type": "code",
   "execution_count": 68,
   "metadata": {},
   "outputs": [
    {
     "data": {
      "text/plain": [
       "(0.4502818986874462, 0.053041536176945125)"
      ]
     },
     "execution_count": 68,
     "metadata": {},
     "output_type": "execute_result"
    }
   ],
   "source": [
    "scipy.stats.pearsonr(x_amd, y_umc)"
   ]
  },
  {
   "cell_type": "markdown",
   "metadata": {},
   "source": [
    "*** Spearman's Correlation UMC ***"
   ]
  },
  {
   "cell_type": "code",
   "execution_count": 86,
   "metadata": {},
   "outputs": [],
   "source": [
    "from scipy.stats import spearmanr"
   ]
  },
  {
   "cell_type": "code",
   "execution_count": 149,
   "metadata": {},
   "outputs": [
    {
     "name": "stdout",
     "output_type": "stream",
     "text": [
      "[[-0.0229202 ]\n",
      " [ 0.37619461]\n",
      " [-0.08522727]\n",
      " [ 0.11456177]\n",
      " [ 0.06811146]\n",
      " [-0.05913043]\n",
      " [-0.14356131]\n",
      " [-0.07122302]\n",
      " [ 0.16653757]\n",
      " [ 0.15338645]\n",
      " [ 0.21416235]\n",
      " [-0.16785206]\n",
      " [ 0.09287749]\n",
      " [ 0.45464025]\n",
      " [ 0.15949821]\n",
      " [ 0.05780526]\n",
      " [ 0.12215079]\n",
      " [ 0.12135417]\n",
      " [ 0.12517418]]\n",
      "[[ 2.90315950e+01]\n",
      " [-9.66452340e-01]\n",
      " [-2.83177173e-02]\n",
      " [ 2.36540283e-02]\n",
      " [ 2.87670364e+01]\n",
      " [-9.64712946e-01]\n",
      " [-9.82427907e-02]\n",
      " [-8.26146745e-02]\n",
      " [ 1.05829093e-01]\n",
      " [ 4.73827338e-02]\n",
      " [ 1.08923898e-01]\n",
      " [ 1.00071309e-02]\n",
      " [ 5.01187818e-02]\n",
      " [ 1.09086461e-02]\n",
      " [ 9.49174706e-03]\n",
      " [ 3.97528472e-02]\n",
      " [ 8.09123305e-02]\n",
      " [ 9.81959895e-02]\n",
      " [ 5.71114431e-02]]\n"
     ]
    }
   ],
   "source": [
    "x_amd = AMD.pctRevChange[1:].to_numpy().reshape(-1,1)\n",
    "y_umc = UMC.pctRevChange[2:].to_numpy().reshape(-1,1)\n",
    "print(x_amd)\n",
    "print(y_umc)"
   ]
  },
  {
   "cell_type": "code",
   "execution_count": 150,
   "metadata": {},
   "outputs": [
    {
     "name": "stdout",
     "output_type": "stream",
     "text": [
      "0.24736842105263157\n"
     ]
    }
   ],
   "source": [
    "corr, _ = spearmanr(x_amd, y_umc)\n",
    "print(corr)"
   ]
  },
  {
   "cell_type": "markdown",
   "metadata": {},
   "source": [
    "*** Kendall Rank Correlation UMC ***"
   ]
  },
  {
   "cell_type": "code",
   "execution_count": 126,
   "metadata": {},
   "outputs": [],
   "source": [
    "from scipy import stats"
   ]
  },
  {
   "cell_type": "code",
   "execution_count": 151,
   "metadata": {},
   "outputs": [
    {
     "name": "stdout",
     "output_type": "stream",
     "text": [
      "[-0.0229202   0.37619461 -0.08522727  0.11456177  0.06811146 -0.05913043\n",
      " -0.14356131 -0.07122302  0.16653757  0.15338645  0.21416235 -0.16785206\n",
      "  0.09287749  0.45464025  0.15949821  0.05780526  0.12215079  0.12135417\n",
      "  0.12517418]\n",
      "[ 2.90315950e+01 -9.66452340e-01 -2.83177173e-02  2.36540283e-02\n",
      "  2.87670364e+01 -9.64712946e-01 -9.82427907e-02 -8.26146745e-02\n",
      "  1.05829093e-01  4.73827338e-02  1.08923898e-01  1.00071309e-02\n",
      "  5.01187818e-02  1.09086461e-02  9.49174706e-03  3.97528472e-02\n",
      "  8.09123305e-02  9.81959895e-02  5.71114431e-02]\n"
     ]
    }
   ],
   "source": [
    "x_amd = AMD.pctRevChange[1:].to_numpy().reshape(-1,1)\n",
    "y_umc = UMC.pctRevChange[2:].to_numpy().reshape(-1,1)\n",
    "x_amd = np.squeeze(np.asarray(x_amd))\n",
    "y_umc = np.squeeze(np.asarray(y_umc))\n",
    "print(x_amd)\n",
    "print(y_umc)"
   ]
  },
  {
   "cell_type": "code",
   "execution_count": 141,
   "metadata": {},
   "outputs": [],
   "source": [
    "tau, p_value = stats.kendalltau(x_amd, y_umc)"
   ]
  },
  {
   "cell_type": "code",
   "execution_count": 142,
   "metadata": {},
   "outputs": [
    {
     "data": {
      "text/plain": [
       "0.14619883040935672"
      ]
     },
     "execution_count": 142,
     "metadata": {},
     "output_type": "execute_result"
    }
   ],
   "source": [
    "tau"
   ]
  },
  {
   "cell_type": "code",
   "execution_count": 143,
   "metadata": {},
   "outputs": [
    {
     "data": {
      "text/plain": [
       "0.40626461663128227"
      ]
     },
     "execution_count": 143,
     "metadata": {},
     "output_type": "execute_result"
    }
   ],
   "source": [
    "p_value"
   ]
  }
 ],
 "metadata": {
  "kernelspec": {
   "display_name": "Python 3",
   "language": "python",
   "name": "python3"
  },
  "language_info": {
   "codemirror_mode": {
    "name": "ipython",
    "version": 3
   },
   "file_extension": ".py",
   "mimetype": "text/x-python",
   "name": "python",
   "nbconvert_exporter": "python",
   "pygments_lexer": "ipython3",
   "version": "3.9.6"
  }
 },
 "nbformat": 4,
 "nbformat_minor": 4
}
