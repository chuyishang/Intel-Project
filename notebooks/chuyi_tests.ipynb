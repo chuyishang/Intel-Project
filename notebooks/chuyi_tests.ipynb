{
 "cells": [
  {
   "cell_type": "code",
   "execution_count": 1,
   "metadata": {},
   "outputs": [],
   "source": [
    "# pdf plumber\n",
    "import requests\n",
    "from io import BytesIO\n",
    "import pdfplumber\n",
    "\n",
    "# data analysis\n",
    "import numpy as np\n",
    "import pandas as pd\n",
    "import re\n",
    "import csv\n",
    "\n",
    "import scraper"
   ]
  },
  {
   "cell_type": "code",
   "execution_count": 2,
   "metadata": {},
   "outputs": [],
   "source": [
    "tsmc_urls_file = 'urls/tsmc_urls.csv'\n",
    "tsmc_urls_reader = csv.reader(open( 'urls/tsmc_urls.csv', 'r', encoding='utf-8-sig'))\n",
    "tsmc_urls = dict([(row[0], row[1]) for row in tsmc_urls_reader])"
   ]
  },
  {
   "cell_type": "code",
   "execution_count": 3,
   "metadata": {},
   "outputs": [
    {
     "name": "stdout",
     "output_type": "stream",
     "text": [
      "1Q11 https://investor.tsmc.com/english/encrypt/files/encrypt_file/english/2011/Q1/1Q11%20Management%20Report.pdf\n",
      "Capex failed for https://investor.tsmc.com/english/encrypt/files/encrypt_file/english/2011/Q1/1Q11%20Management%20Report.pdf\n",
      "Inv failed for https://investor.tsmc.com/english/encrypt/files/encrypt_file/english/2011/Q1/1Q11%20Management%20Report.pdf\n",
      "2Q11 https://investor.tsmc.com/english/encrypt/files/encrypt_file/english/2011/Q2/2Q11%20Management%20Report.pdf\n",
      "URL not working for https://investor.tsmc.com/english/encrypt/files/encrypt_file/english/2011/Q2/2Q11%20Management%20Report.pdf!\n",
      "3Q11 https://investor.tsmc.com/english/encrypt/files/encrypt_file/english/2011/Q3/3Q11%20Management%20Report.pdf\n",
      "URL not working for https://investor.tsmc.com/english/encrypt/files/encrypt_file/english/2011/Q3/3Q11%20Management%20Report.pdf!\n",
      "4Q11 https://investor.tsmc.com/english/encrypt/files/encrypt_file/english/2011/Q4/4Q11%20Management%20Report.pdf\n",
      "URL not working for https://investor.tsmc.com/english/encrypt/files/encrypt_file/english/2011/Q4/4Q11%20Management%20Report.pdf!\n",
      "1Q12 https://investor.tsmc.com/english/encrypt/files/encrypt_file/english/2012/Q1/1Q12ManagementReport.pdf\n",
      "Capex failed for https://investor.tsmc.com/english/encrypt/files/encrypt_file/english/2012/Q1/1Q12ManagementReport.pdf\n",
      "Inv failed for https://investor.tsmc.com/english/encrypt/files/encrypt_file/english/2012/Q1/1Q12ManagementReport.pdf\n",
      "2Q12 https://investor.tsmc.com/english/encrypt/files/encrypt_file/english/2012/Q2/2Q12ManagementReport.pdf\n",
      "Capex failed for https://investor.tsmc.com/english/encrypt/files/encrypt_file/english/2012/Q2/2Q12ManagementReport.pdf\n",
      "Inv failed for https://investor.tsmc.com/english/encrypt/files/encrypt_file/english/2012/Q2/2Q12ManagementReport.pdf\n",
      "3Q12 https://investor.tsmc.com/english/encrypt/files/encrypt_file/english/2012/Q3/3Q12ManagementReport.pdf\n",
      "URL not working for https://investor.tsmc.com/english/encrypt/files/encrypt_file/english/2012/Q3/3Q12ManagementReport.pdf!\n",
      "4Q12 https://investor.tsmc.com/english/encrypt/files/encrypt_file/english/2012/Q4/4Q12ManagementReport.pdf\n",
      "Capex failed for https://investor.tsmc.com/english/encrypt/files/encrypt_file/english/2012/Q4/4Q12ManagementReport.pdf\n",
      "Inv failed for https://investor.tsmc.com/english/encrypt/files/encrypt_file/english/2012/Q4/4Q12ManagementReport.pdf\n",
      "1Q13 https://investor.tsmc.com/english/encrypt/files/encrypt_file/english/2013/Q1/1Q13ManagementReport.pdf\n",
      "Capex failed for https://investor.tsmc.com/english/encrypt/files/encrypt_file/english/2013/Q1/1Q13ManagementReport.pdf\n",
      "2Q13 https://investor.tsmc.com/english/encrypt/files/encrypt_file/english/2013/Q2/2Q13ManagementReport.pdf\n",
      "Capex failed for https://investor.tsmc.com/english/encrypt/files/encrypt_file/english/2013/Q2/2Q13ManagementReport.pdf\n",
      "3Q13 https://investor.tsmc.com/english/encrypt/files/encrypt_file/english/2013/Q3/3Q13ManagementReport.pdf\n",
      "Capex failed for https://investor.tsmc.com/english/encrypt/files/encrypt_file/english/2013/Q3/3Q13ManagementReport.pdf\n",
      "4Q13 https://investor.tsmc.com/english/encrypt/files/encrypt_file/english/2013/Q4/4Q13ManagementReport.pdf\n",
      "Capex failed for https://investor.tsmc.com/english/encrypt/files/encrypt_file/english/2013/Q4/4Q13ManagementReport.pdf\n",
      "1Q14 https://investor.tsmc.com/english/encrypt/files/encrypt_file/english/2014/Q1/1Q14ManagementReport.pdf\n",
      "Capex failed for https://investor.tsmc.com/english/encrypt/files/encrypt_file/english/2014/Q1/1Q14ManagementReport.pdf\n",
      "2Q14 https://investor.tsmc.com/english/encrypt/files/encrypt_file/english/2014/Q2/2Q14ManagementReport.pdf\n",
      "3Q14 https://investor.tsmc.com/english/encrypt/files/encrypt_file/english/2014/Q3/3Q14ManagementReport.pdf\n",
      "4Q14 https://investor.tsmc.com/english/encrypt/files/encrypt_file/english/2014/Q4/4Q14ManagementReport.pdf\n",
      "1Q15 https://investor.tsmc.com/english/encrypt/files/encrypt_file/english/2015/Q1/1Q15ManagementReport.pdf\n",
      "2Q15 https://investor.tsmc.com/english/encrypt/files/encrypt_file/english/2015/Q2/2Q15ManagementReport.pdf\n",
      "Capex failed for https://investor.tsmc.com/english/encrypt/files/encrypt_file/english/2015/Q2/2Q15ManagementReport.pdf\n",
      "3Q15 https://investor.tsmc.com/english/encrypt/files/encrypt_file/english/2015/Q3/3Q15ManagementReport.pdf\n",
      "Capex failed for https://investor.tsmc.com/english/encrypt/files/encrypt_file/english/2015/Q3/3Q15ManagementReport.pdf\n",
      "4Q15 https://investor.tsmc.com/english/encrypt/files/encrypt_file/english/2015/Q4/4Q15ManagementReport.pdf\n",
      "Capex failed for https://investor.tsmc.com/english/encrypt/files/encrypt_file/english/2015/Q4/4Q15ManagementReport.pdf\n",
      "1Q16 https://investor.tsmc.com/english/encrypt/files/encrypt_file/english/2016/Q1/1Q16ManagementReport.pdf\n",
      "Capex failed for https://investor.tsmc.com/english/encrypt/files/encrypt_file/english/2016/Q1/1Q16ManagementReport.pdf\n",
      "2Q16 https://investor.tsmc.com/english/encrypt/files/encrypt_file/english/2016/Q2/2Q16ManagementReport.pdf\n",
      "3Q16 https://investor.tsmc.com/english/encrypt/files/encrypt_file/english/2016/Q3/3Q16ManagementReport.pdf\n",
      "4Q16 https://investor.tsmc.com/english/encrypt/files/encrypt_file/english/2016/Q4/4Q16ManagementReport.pdf\n",
      "1Q17 https://investor.tsmc.com/english/encrypt/files/encrypt_file/english/2017/Q1/1Q17ManagementReport.pdf\n",
      "2Q17 https://investor.tsmc.com/english/encrypt/files/encrypt_file/english/2017/Q2/2Q17ManagementReport.pdf\n",
      "3Q17 https://investor.tsmc.com/english/encrypt/files/encrypt_file/english/2017/Q3/3Q17ManagementReport.pdf\n",
      "4Q17 https://investor.tsmc.com/english/encrypt/files/encrypt_file/english/2017/Q4/4Q17ManagementReport.pdf\n",
      "1Q18 https://investor.tsmc.com/english/encrypt/files/encrypt_file/english/2018/Q1/1Q18ManagementReport.pdf\n",
      "2Q18 https://investor.tsmc.com/english/encrypt/files/encrypt_file/english/2018/Q2/2Q18ManagementReport.pdf\n",
      "3Q18 https://investor.tsmc.com/english/encrypt/files/encrypt_file/english/2018/Q3/3Q18ManagementReport.pdf\n",
      "4Q18 https://investor.tsmc.com/english/encrypt/files/encrypt_file/english/2018/Q4/4Q18ManagementReport.pdf\n",
      "1Q19 https://investor.tsmc.com/english/encrypt/files/encrypt_file/english/2019/Q1/1Q19ManagementReport.pdf\n",
      "2Q19 https://investor.tsmc.com/english/encrypt/files/encrypt_file/english/2019/Q2/2Q19ManagementReport.pdf\n",
      "3Q19 https://investor.tsmc.com/english/encrypt/files/encrypt_file/english/2019/Q3/3Q19ManagementReport.pdf\n",
      "4Q19 https://investor.tsmc.com/english/encrypt/files/encrypt_file/english/2019/Q4/4Q19ManagementReport.pdf\n",
      "1Q20 https://investor.tsmc.com/english/encrypt/files/encrypt_file/qr/phase5_support/1Q20ManagementReport.pdf\n",
      "2Q20 https://investor.tsmc.com/english/encrypt/files/encrypt_file/qr/phase5_support/2Q20ManagementReport.pdf\n",
      "3Q20 https://investor.tsmc.com/english/encrypt/files/encrypt_file/qr/phase5_support/2Q20ManagementReport.pdf\n",
      "4Q20 https://investor.tsmc.com/english/encrypt/files/encrypt_file/reports/2021-01/4Q20ManagementReport.pdf\n",
      "1Q21 https://investor.tsmc.com/english/encrypt/files/encrypt_file/reports/2021-04/c3503e3be4f98cd83817a8abff6e4586deaa3904/1Q21ManagementReport.pdf\n",
      "2Q21 https://investor.tsmc.com/english/encrypt/files/encrypt_file/reports/2021-07/048b7a33a72733c8dd5ab4aa3b6a02ed6167ffbb/2Q21ManagementReport.pdf\n",
      "3Q21 https://investor.tsmc.com/english/encrypt/files/encrypt_file/reports/2021-10/8a955b1705b45fc12d3aa78ecc01231b4a03cbd4/3Q21ManagementReport.pdf\n",
      "4Q21 https://investor.tsmc.com/english/encrypt/files/encrypt_file/reports/2022-01/f7c72d6d88b224476ab812fc3ba28169ec091a86/4Q21ManagementReport.pdf\n"
     ]
    }
   ],
   "source": [
    "for quarter, url in tsmc_urls.items():\n",
    "    print(quarter, url)\n",
    "    if url not in ('NA', 'Link'):\n",
    "        scraper.parse_tsmc(url)"
   ]
  },
  {
   "cell_type": "code",
   "execution_count": null,
   "metadata": {},
   "outputs": [],
   "source": [
    "url = \"https://investor.tsmc.com/english/encrypt/files/encrypt_file/english/2011/Q1/1Q11%20Management%20Report.pdf\"\n",
    "rq = requests.get(url)\n",
    "pdf = pdfplumber.open(BytesIO(rq.content))\n",
    "tsmc_text = \"\"\n",
    "for i in range(5):\n",
    "    tsmc_text += pdf.pages[i].extract_text()"
   ]
  },
  {
   "cell_type": "code",
   "execution_count": 23,
   "metadata": {},
   "outputs": [
    {
     "data": {
      "text/plain": [
       "'FOR IMMEDIATE RELEASE  \\n1Q11  Quarterly Management Report\\nApril 28, 2011 \\n       Operating Results Review: \\n \\nCONTACT \\nE lizabeth Sun    S ummary:\\nC orporate Communication Division   \\nTSMC \\nin vest@tsmc.com  (A mounts are on consolidated basis and are in NT\\n88 6-3-568-2085    b illions except otherwise noted) 1Q11 4Q10 1Q10 QoQ YoY\\n         \\n   \\nEPS (NT$ per common share) 1.40 1.57 1.30 (10.9%) 7.7%\\n           (US$ per ADR unit) 0.24 0.26 0.20\\n \\n \\nConsolidated Net Sales 105.38 110.14 92.19 (4.3%) 14.3%\\n Topics in This Report \\n \\nGross Profit    51.67 54.82 44.19 (5.7%) 16.9%\\n  \\nG ross Margin 49.0% 49.8% 47.9%\\n •  Rev enue An alysis               \\n \\n   Operating Expense (12.51) (13.31) (10.06) (6.0%) 24.4%\\n •  Profit & Expense  O perating Income 39.16 41.51 34.13 (5.7%) 14.8%\\nO perating Margin 37.2% 37.7% 37.0%\\n  Analysis \\n     N on-Operating Items 1.15 1.37 1.18\\n •  Financial  N et Income 36.28 40.72 33.66 (10.9%) 7.8%\\n  Condition Review  N et Profit Margin 34.4% 37.0% 36.5%\\n    \\nWafer Shipment (kpcs 8 inch-equiv.)            3,161       3,195       2,547 (1.1%) 24.1%\\n •  Cash Flow    \\n \\n   \\nNote: Total outstanding shares were 25,914mn units on 3/31/11\\n \\n•  CapEx & Capacity   \\n  \\n   \\n \\n•  Recap of Recent  Financial Highlights: \\n \\nImportant Events   \\n \\n& Announcements   First Quarter 2011 \\n \\n    \\n \\n  (cid:122)  Consolidated net sales were NT$105.38 billion, representing a 4.3% \\n  decrease from NT$110.14 billion in 4Q10 and a 14.3% increase from \\n  NT$92.19 billion in 1Q10. \\n  (cid:122)  Gross margin was 49.0%, down 0.8 percentage point from 4Q10 and \\n  up 1.1 percentage points from 1Q10.  \\n \\n(cid:122)  Operating margin was 37.2%, 0.5 percentage point lower than 4Q10 \\nand 0.2 percentage point higher than 1Q10 level. \\n(cid:122)  Non-operating income and long-term investment combined were a gain \\nof NT$1.15 billion, compared to a gain of NT$1.37 billion in 4Q10 \\nand NT$1.18 billion in 1Q10. \\n(cid:122)  Consolidated  net  income  attributable  to  shareholders  of  the  parent \\ncompany was NT$36.28 billion, down 10.9% from 4Q10.  Net profit \\nmargin was 34.4% and diluted EPS was NT$1.40. \\n TSMC \\nApril 28, 2011    Page 2 \\n \\n I.  Revenue Analysis \\n   \\n  Revenue Analysis: \\nI.  Wafer Sales Analysis\\n \\nDemand  for  TSMC’s  wafers  was  stronger  than \\n  By Application 1Q11 4Q10 1Q10\\n  Computer 23% 24% 32% seasonal during the first quarter, with revenue slightly \\nCommunication 48% 47% 39% down 0.7% in US dollar terms. However, including the \\n \\nConsumer 11% 11% 14% unfavorable  impact  from  a  3.6%  change  in  foreign \\n \\nIndustrial/Others 18% 18% 15% exchange rate, wafer sales decreased sequentially in all \\n \\nmajor  applications.  Communication,  Computer, \\n  Consumer, and Industrial decreased 3%, 9%, 6%, and \\n  By Technology 1Q11 4Q10 1Q10 8%, respectively, from 4Q10. \\n  40/45nm 22% 21% 14%\\n  65nm 32% 31% 27% In terms of advanced technology, demand for 40/45nm \\n  90nm 10% 11% 17% and  65nm  wafers  continued  to  grow  in  1Q11. \\n0.11/0.13um 9% 10% 13% Combined  contribution  from  40/45nm  and  65nm \\n \\n0.15/0.18um 17% 17% 18% represented 54% of total wafer sales, compared to 52% \\n \\n0.25/0.35um 7% 7% 8% in 4Q10 and 41% in 1Q10.  \\n \\n0.50um+ 3% 3% 3%\\n \\nRevenues from IDM customers accounted for 22% of \\n \\ntotal wafer sales in 1Q11, flat from 4Q10. \\n  By Customer Type 1Q11 4Q10 1Q10\\nFabless/System 78% 78% 77%\\n  From  a  geographic  perspective,  revenues  from \\nIDM 22% 22% 23%\\n  customers based in North America accounted for 69% \\n  of total wafer sales, while sales from Asia Pacific, \\n  China,  Europe  and  Japan  accounted  for  14%,  3%, \\nBy Geography 1Q11 4Q10 1Q10\\n10%, and 4% of total wafer sales, respectively. \\n  North America 69% 70% 68%\\n  Asia Pacific 14% 13% 15%\\n \\n  China 3% 3% 2%\\nEurope 10% 10% 11%\\n \\nJapan 4% 4% 4%\\n \\n \\n \\n \\n \\n  \\n \\n I I  .   P rofit & Expense Analysis \\n \\nGross Profit Analysis: \\nII - 1. Gross Profit Analysis\\nGross  margin  was  49.0%  in  1Q11,  0.8  percentage \\n(In NT billions) 1Q11 4Q10 1Q10\\npoint  lower  than  4Q10,  mainly  reflecting  lower \\nCOGS      53.71      55.32      48.00\\ncapacity  utilization  and  an  unfavorable  foreign \\nDepreciation      22.62     2 1.24     1 9.22\\nexchange rate, partially offset by a favorable inventory \\nOther MFG Cost     3 1.09     3 4.08     2 8.78\\nvaluation adjustment under ROC SFAS No.10, a more \\nGross Profit      51.67      54.82      44.19 favorable mix in revenue, and cost improvements. \\nGross Margin  49.0% 49.8% 47.9%  TSMC \\nApril 28, 2011    Page 3 \\n   \\n \\nOperating Expenses: \\n \\nII - 2. Operating Expenses \\n  Total operating expenses were NT$12.51 billion in \\n  1Q11, representing 11.8% of net sales. \\n(In NT billions) 1Q11 4Q10 1Q10\\n \\n  Total Operating Exp. 12.51      13.31 10.06 SG&A  expenses  decreased  NT$0.69  billion  from \\n4Q10, primarily due to lower opening expenses for \\n  SG&A 4.55       5 .24 3.65\\nFab 14 Phase 4 and Fab 12 Phase 5. \\n \\nResearch & Development 7.96       8 .07 6.41\\n \\nTotal Operating Exp. as a % Research  and  development  expenditures  slightly \\n  11.8% 12.1% 10.9%\\nof Sales decreased by NT$0.11 billion. \\n \\n \\n \\n \\nNon-Operating Items: \\n \\nII - 3. Non-Operating Items \\n  Total  non-operating  items  were  a  gain  of  NT$1.15 \\n(In NT billions) 1Q11 4Q10 1Q10 billion in 1Q11. \\nNon-Operating Inc./(Exp.) 0.63 0.68 1.00 Non-operating  income  was  NT$0.63  billion,  down \\n   Net Interest Income/(Exp.) 0.25 0.30 0.32 NT$50  million  sequentially,  reflecting  lower  net \\n   Other Non-Operating 0.38 0.38 0.68 interest income and flattish other non-operating items, \\nas a result of the absence of compensation from the \\nL-T Investments 0.52 0.69 0.18 SMIC litigation settlement and lower disposal gains \\n   SSMC 0.33 0.44 0.19 from financial assets, mostly offset by the absence of a \\n   Others 0.19 0.25 (0.01) net loss from disposal of steel frame in a partially \\nconstructed fab acquired from Powerchip Technology \\nTotal Non-Operating Items 1.15 1.37 1.18\\nCorporation. \\nNet  investment  gain  was  NT$0.52  billion,  down \\nNT$0.17 billion from 4Q10, reflecting lower profits \\nfrom certain invested companies. \\n \\nIII. Financial Condition Review \\nLiquidity Analysis: \\nIII - 1. Liquidity Analysis  \\n          (Balance Sheet Items)\\nAt the end of 1Q11, cash and marketable securities \\n(In NT billions) 1Q11 4Q10 1Q10\\ntotaled  NT$163.41  billion,  decreased  by  NT$18.16 \\nCash & Marketable Securities 163.41 181.57 192.01 billion from 4Q10, primarily due to a negative free \\nAccounts Receivable - Trade 46.83 42.98 39.77 cash flow of NT$24.78 billion resulting from higher \\nInventory 31.79 28.41 22.69 capital expenditures during the quarter (please refer to \\nOther Current Assets 8.50 8.56 11.15 page 5). \\nTotal Current Assets 250.53 261.52 265.62  \\nShort-term Loans 34.18 31.21 0.32 Accounts receivable and inventory increased NT$3.85 \\nAccounts Payable 47.26 56.23 40.41 billion and NT$3.38 billion, respectively. \\nAccrued Employee Profit Sharing / Bonus 15.98 13.81 11.39  \\nAccrued Liabilities and Others 29.84 21.94 26.06 Total  current  liabilities  increased  NT$4.07  billion, \\nTotal Current Liabilities 127.26 123.19 78.18 primarily attributed to the reclassification of corporate \\nCurrent Ratio (x) 2.0 2.1 3.4 bonds  from  long-term  liabilities  and  an  increase  in \\nshort-term  loans,  partially  offset  by  a  decrease  in \\nNet Working Capital 123.27 138.33 187.44\\naccounts  payable  to  contractors  and  equipment \\nsuppliers during the quarter.    \\n \\nNet  working  capital  was  NT$123.27  billion  and \\ncurrent ratio was 2.0x. TSMC \\nApril 28, 2011    Page 4 \\n  \\nReceivable and Inventory Days: \\nIII - 2. Receivable/Inventory Days\\n \\n(In Number of Days) Days of receivable increased by one day to 39 days. \\n1Q11 4Q10 1Q10  \\nDays of Receivable 39 38 38 Days  of  inventory  increased  by  6  days  to  56  days \\nDays of Inventory 56 50 45 mainly due to changes in delivery schedule, some early \\norders from certain customers, and increased safety \\nstock in materials in response to the Japan earthquake. \\nDebt Service: \\nIII - 3. Debt Service\\n \\n(In NT billions) 1Q11 4Q10 1Q10 Net  cash  reserves,  defined  as  cash  and  short-term \\nmarketable  securities  minus  interest-bearing  debt, \\ndecreased NT$21.68 billion to NT$115.83 billion in \\nCash & Marketable Securities 163.41 181.57 192.01\\n1Q11, reflecting a decrease of NT$ 18.16 billion in \\nInterest-Bearing Debt 47.58 44.06 14.18\\ncash and marketable securities, partially offset by an \\nNet Cash Reserves 115.83 137.51 177.83\\nincrease of NT$2.97 billion in short-term loans for the \\npurpose of hedging primarily an increased portion of \\nthe company’s US dollar position. \\nIV. Cash Flow  \\nSummary of Cash Flow: \\nIV - 1.1. Cash Flow Analysis \\n \\n(In NT billions) 1Q11 4Q10 1Q10 Cash  generated  from  operating  activities  totaled \\nNet Income 36.28 40.72 33.66 NT$56.48 billion during the quarter, a decrease of \\nDepreciation & Amortization 24.82 23.30 21.00\\nNT$14.08 billion from 4Q10, primarily attributed to \\nOther Operating Sources/(Uses) (4.62) 6.54 (8.63)\\nTotal Operating Sources/(Uses) 56.48 70.56 46.03 a NT$11.16 billion decrease in cash flow from other \\nCapital Expenditure (81.26) (45.94) (46.14) operating sources. The decrease in other operating \\nMarketable Financial Instruments (0.41) 0.41 (3.64) sources  mainly  reflects  the  change  in  accounts \\nLong-term Investment 0.00 0.00 (6.23) receivable,  payment  of  2010  annual  bonus,  and \\nOther Investing Sources/(Uses) 4.10 (1.03) (0.28) change in inventory. \\nNet Investing Sources/(Uses) (77.57) (46.56) (56.29)\\n \\nShort-term Loans 2.97 (6.70) 0.32\\nNet  cash  used  in  investing  activities  totaled \\nOther Financing Sources/(Uses) 0.80 (0.60) (1.16)\\nNT$77.57  billion  in  1Q11,  mostly  due  to  capital \\nNet Financing Sources/(Uses) 3.77 (7.30) (0.84)\\nexpenditures of NT$81.26 billion. \\nNet Cash Position Changes (17.32) 16.70 (11.10)  \\nNet  cash  generated  in  financing  activities  totaled   \\nExchange Rate Changes & Others (1.12) (1.08) (0.38)\\nNT$3.77  billion  during  the  quarter,  primarily \\nEnding Cash Balance 129.45 147.89 159.80 attributed to the increase in short-term loans.  \\n \\nAs a result, TSMC ended 1Q11 with a cash balance \\nof NT$129.45 billion. TSMC \\nApril 28, 2011    Page 5 \\n \\n \\n  IV-2. Operating and Free Cash Flows Operating and Free Cash Flows: \\n \\n(In NT billions)\\n80 Free cash flow, defined as the excess of operating cash \\n60 flows  over  capital  expenditures,  was  negative \\n40 NT$24.78 billion in 1Q11. \\n20  \\n0\\n-20\\n1Q09 2Q09 3Q09 4Q09 1Q10 2Q10 3Q10 4Q10 1Q11\\n-40\\nFree Cash Flow Operating Cash Flow\\nV. CapEx & Capacity \\nCapital Expenditures: \\nV - 1. Capital Expenditures\\nCapital expenditures for TSMC on a consolidated basis \\n(In US millions) 1Q11 4Q10 totaled US$2.77 billion in 1Q11, which accounted for \\n36% of total expected capital expenditures in 2011. \\nTSMC 2,635 1,435\\nTSMC China & WaferTech 95 69\\nOther TSMC Subsidiaries 44 12\\nTotal TSMC 2,774 1,516\\nCapacity: \\nV-2. Capacity\\nFab / (Wafer size) 4Q10 2010 1Q11 2Q11 3Q11 4Q11 2011 Total managed capacity remained flat at 3,063K 8-inch \\n(A) (A) (A) (F) (F) (F) (F)\\nequivalent wafers in 1Q11, as an increase of 28K (12”) \\nFab-2              (6\")(1) 255 1,000 238 252 255 255 1,000\\nFab-3              (8\") 300 1,149 275 301 304 303 1,184 in 12” wafer capacity was offset by a decrease of 66K \\nFab-5              (8\") 141 564 137 133 141 141 552 (8”)  6”  and  8”  fabs  capacity,  due  to  annual \\nFab-6              (8\") 282 1,113 274 283 286 286 1,128 maintenance.  TSMC managed capacity in 2Q11 is \\nFab-8              (8\") 255 1,009 240 254 254 255 1,003\\nexpected to increase by 8.4% to reach 3,320K 8-inch \\nFab-12           (12\")(2) 315 1,194 322 338 351 366 1,377\\nequivalent wafers.  12” wafer capacity will increase \\nFab-14           (12\")(2) 406 1,326 427 488 534 537 1,986\\nWaferTech       (8\") 108 429 106 108 109 109 431 10.2% from 1Q11, while 6” and 8” fabs capacity will \\nTSMC China   (8\") 147 557 148 179 216 250 793 increase 6% sequentially.  \\nTSMC total capacity\\n2,997 11,053 3,000 3,256 3,444 3,519 13,218\\n(8\" equiv. Kpcs)\\nTotal managed capacity is expected to increase 19% \\nSSMC            (8\") 69 276 64 64 65 65 258\\nfrom  11,329K  8-inch  equivalent  wafers  in  2010  to \\nTotal managed capacity\\n3,066 11,329 3,063 3,320 3,509 3,584 13,476\\n(8\" equiv. Kpcs) 13,476K in 2011, in which 12-inch wafer capacity is \\n(1) Figures represent number of 6\" wafers.  Conversion to 8\"-equivalent wafers expected to increase 33% sequentially. \\n     is obtained by dividing this number by 1.78\\n(2) Figures represent number of 12\" wafers.  Conversion to 8\"-equivalent wafers \\n     is obtained by multiplying this number by 2.25'"
      ]
     },
     "execution_count": 23,
     "metadata": {},
     "output_type": "execute_result"
    }
   ],
   "source": [
    "tsmc_text"
   ]
  },
  {
   "cell_type": "code",
   "execution_count": 24,
   "metadata": {},
   "outputs": [],
   "source": [
    "def clean_tsmc_geo(tsmc_text):\n",
    "  \"\"\"\n",
    "  Cleans TSMC's geo dataframe.\n",
    "  \"\"\"\n",
    "  umcRegions = []\n",
    "  digits = \"\\s+(\\d+%)\\s+(\\d+%)\\s+(\\d+%)\"\n",
    "  regionCols = np.asarray(re.findall(r\"(Net Revenue by Geography|By Geography)\\s+(\\d+Q\\d+)\\s+(\\d+Q\\d+)\\s+(\\d+Q\\d+)\", tsmc_text)[0])\n",
    "  NorthAm = np.asarray(re.findall(f\"(North America){digits}\", tsmc_text)[0])\n",
    "  umcRegions.append(NorthAm)\n",
    "  China = np.asarray(re.findall(f\"(China){digits}\", tsmc_text)[0])\n",
    "  umcRegions.append(China)\n",
    "  try:\n",
    "      EMEA = np.asarray(re.findall(f\"(EMEA){digits}\", tsmc_text)[0])\n",
    "      umcRegions.append(EMEA)\n",
    "  except IndexError:\n",
    "      pass\n",
    "  try:\n",
    "      europe = np.asarray(re.findall(f\"(Europe){digits}\", tsmc_text)[0])\n",
    "      umcRegions.append(europe)\n",
    "  except IndexError:\n",
    "      pass\n",
    "  try: \n",
    "      APAC = np.asarray(re.findall(f\"(Asia Pacific){digits}\", tsmc_text)[0])\n",
    "      umcRegions.append(APAC)\n",
    "  except IndexError:\n",
    "      pass\n",
    "  Japan = np.asarray(re.findall(f\"(Japan){digits}\", tsmc_text)[0])\n",
    "  umcRegions.append(Japan)\n",
    "  geoDF = pd.DataFrame(umcRegions, columns=regionCols)\n",
    "  return geoDF"
   ]
  },
  {
   "cell_type": "code",
   "execution_count": 25,
   "metadata": {},
   "outputs": [
    {
     "data": {
      "text/html": [
       "<div>\n",
       "<style scoped>\n",
       "    .dataframe tbody tr th:only-of-type {\n",
       "        vertical-align: middle;\n",
       "    }\n",
       "\n",
       "    .dataframe tbody tr th {\n",
       "        vertical-align: top;\n",
       "    }\n",
       "\n",
       "    .dataframe thead th {\n",
       "        text-align: right;\n",
       "    }\n",
       "</style>\n",
       "<table border=\"1\" class=\"dataframe\">\n",
       "  <thead>\n",
       "    <tr style=\"text-align: right;\">\n",
       "      <th></th>\n",
       "      <th>By Geography</th>\n",
       "      <th>1Q11</th>\n",
       "      <th>4Q10</th>\n",
       "      <th>1Q10</th>\n",
       "    </tr>\n",
       "  </thead>\n",
       "  <tbody>\n",
       "    <tr>\n",
       "      <th>0</th>\n",
       "      <td>North America</td>\n",
       "      <td>69%</td>\n",
       "      <td>70%</td>\n",
       "      <td>68%</td>\n",
       "    </tr>\n",
       "    <tr>\n",
       "      <th>1</th>\n",
       "      <td>China</td>\n",
       "      <td>3%</td>\n",
       "      <td>3%</td>\n",
       "      <td>2%</td>\n",
       "    </tr>\n",
       "    <tr>\n",
       "      <th>2</th>\n",
       "      <td>Europe</td>\n",
       "      <td>10%</td>\n",
       "      <td>10%</td>\n",
       "      <td>11%</td>\n",
       "    </tr>\n",
       "    <tr>\n",
       "      <th>3</th>\n",
       "      <td>Asia Pacific</td>\n",
       "      <td>14%</td>\n",
       "      <td>13%</td>\n",
       "      <td>15%</td>\n",
       "    </tr>\n",
       "    <tr>\n",
       "      <th>4</th>\n",
       "      <td>Japan</td>\n",
       "      <td>4%</td>\n",
       "      <td>4%</td>\n",
       "      <td>4%</td>\n",
       "    </tr>\n",
       "  </tbody>\n",
       "</table>\n",
       "</div>"
      ],
      "text/plain": [
       "    By Geography 1Q11 4Q10 1Q10\n",
       "0  North America  69%  70%  68%\n",
       "1          China   3%   3%   2%\n",
       "2         Europe  10%  10%  11%\n",
       "3   Asia Pacific  14%  13%  15%\n",
       "4          Japan   4%   4%   4%"
      ]
     },
     "execution_count": 25,
     "metadata": {},
     "output_type": "execute_result"
    }
   ],
   "source": [
    "clean_tsmc_geo(tsmc_text)"
   ]
  },
  {
   "cell_type": "code",
   "execution_count": null,
   "metadata": {},
   "outputs": [],
   "source": []
  }
 ],
 "metadata": {
  "interpreter": {
   "hash": "9c35ae7891cb00642adeba6885073516fbf1e821b1522ecc81e3bc7235be84f1"
  },
  "kernelspec": {
   "display_name": "Python 3.8.8 ('base')",
   "language": "python",
   "name": "python3"
  },
  "language_info": {
   "codemirror_mode": {
    "name": "ipython",
    "version": 3
   },
   "file_extension": ".py",
   "mimetype": "text/x-python",
   "name": "python",
   "nbconvert_exporter": "python",
   "pygments_lexer": "ipython3",
   "version": "3.8.8"
  },
  "orig_nbformat": 4
 },
 "nbformat": 4,
 "nbformat_minor": 2
}
