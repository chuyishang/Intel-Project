{
 "cells": [
  {
   "cell_type": "code",
   "execution_count": null,
   "id": "e9e626f8",
   "metadata": {},
   "outputs": [],
   "source": [
    "import pandas as pd\n",
    "import numpy as np"
   ]
  },
  {
   "cell_type": "code",
   "execution_count": null,
   "id": "c98c0222",
   "metadata": {},
   "outputs": [],
   "source": [
    "# df with columns year, quarter, value\n",
    "def cagr(df):\n",
    "    first_oldest = df[\"value\"].iloc[0] / df[\"value\"].iloc[-1]\n",
    "    years = df.shape[0] / 4\n",
    "    cagr_val = ((first_oldest) ** (1/years)) - 1\n",
    "    return cagr_val"
   ]
  },
  {
   "cell_type": "code",
   "execution_count": null,
   "id": "faba20e3",
   "metadata": {},
   "outputs": [],
   "source": [
    "def get_qoq(df):\n",
    "    df = df.set_index('quarter-string')\n",
    "    df[\"qoq\"] = df['value'].pct_change()\n",
    "    df[\"qoq\"] = df['qoq'].fillna(0)\n",
    "    return df"
   ]
  }
 ],
 "metadata": {
  "kernelspec": {
   "display_name": "Python 3",
   "language": "python",
   "name": "python3"
  },
  "language_info": {
   "codemirror_mode": {
    "name": "ipython",
    "version": 3
   },
   "file_extension": ".py",
   "mimetype": "text/x-python",
   "name": "python",
   "nbconvert_exporter": "python",
   "pygments_lexer": "ipython3",
   "version": "3.8.8"
  }
 },
 "nbformat": 4,
 "nbformat_minor": 5
}
