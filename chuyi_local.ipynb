{
 "cells": [
  {
   "cell_type": "code",
   "execution_count": 6,
   "metadata": {},
   "outputs": [
    {
     "name": "stdout",
     "output_type": "stream",
     "text": [
      "Collecting yahoo_fin\n",
      "  Using cached yahoo_fin-0.8.9.1-py3-none-any.whl (10 kB)\n",
      "Collecting requests-html\n",
      "  Using cached requests_html-0.10.0-py3-none-any.whl (13 kB)\n",
      "Requirement already satisfied: pandas in /Library/Frameworks/Python.framework/Versions/3.9/lib/python3.9/site-packages (from yahoo_fin) (1.3.2)\n",
      "Requirement already satisfied: requests in /Library/Frameworks/Python.framework/Versions/3.9/lib/python3.9/site-packages (from yahoo_fin) (2.26.0)\n",
      "Collecting feedparser\n",
      "  Using cached feedparser-6.0.8-py3-none-any.whl (81 kB)\n",
      "Collecting sgmllib3k\n",
      "  Using cached sgmllib3k-1.0.0.tar.gz (5.8 kB)\n",
      "Requirement already satisfied: python-dateutil>=2.7.3 in /Library/Frameworks/Python.framework/Versions/3.9/lib/python3.9/site-packages (from pandas->yahoo_fin) (2.8.2)\n",
      "Requirement already satisfied: numpy>=1.17.3 in /Library/Frameworks/Python.framework/Versions/3.9/lib/python3.9/site-packages (from pandas->yahoo_fin) (1.21.2)\n",
      "Requirement already satisfied: pytz>=2017.3 in /Library/Frameworks/Python.framework/Versions/3.9/lib/python3.9/site-packages (from pandas->yahoo_fin) (2021.1)\n",
      "Requirement already satisfied: six>=1.5 in /Library/Frameworks/Python.framework/Versions/3.9/lib/python3.9/site-packages (from python-dateutil>=2.7.3->pandas->yahoo_fin) (1.16.0)\n",
      "Requirement already satisfied: urllib3<1.27,>=1.21.1 in /Library/Frameworks/Python.framework/Versions/3.9/lib/python3.9/site-packages (from requests->yahoo_fin) (1.26.6)\n",
      "Requirement already satisfied: certifi>=2017.4.17 in /Library/Frameworks/Python.framework/Versions/3.9/lib/python3.9/site-packages (from requests->yahoo_fin) (2021.5.30)\n",
      "Requirement already satisfied: idna<4,>=2.5 in /Library/Frameworks/Python.framework/Versions/3.9/lib/python3.9/site-packages (from requests->yahoo_fin) (3.2)\n",
      "Requirement already satisfied: charset-normalizer~=2.0.0 in /Library/Frameworks/Python.framework/Versions/3.9/lib/python3.9/site-packages (from requests->yahoo_fin) (2.0.4)\n",
      "Collecting pyquery\n",
      "  Using cached pyquery-1.4.3-py3-none-any.whl (22 kB)\n",
      "Requirement already satisfied: w3lib in /Library/Frameworks/Python.framework/Versions/3.9/lib/python3.9/site-packages (from requests-html->yahoo_fin) (1.22.0)\n",
      "Collecting pyppeteer>=0.0.14\n",
      "  Using cached pyppeteer-1.0.2-py3-none-any.whl (83 kB)\n",
      "Collecting parse\n",
      "  Using cached parse-1.19.0.tar.gz (30 kB)\n",
      "Collecting fake-useragent\n",
      "  Using cached fake-useragent-0.1.11.tar.gz (13 kB)\n",
      "Collecting bs4\n",
      "  Using cached bs4-0.0.1.tar.gz (1.1 kB)\n",
      "Collecting websockets<11.0,>=10.0\n",
      "  Downloading websockets-10.2-cp39-cp39-macosx_10_9_x86_64.whl (96 kB)\n",
      "\u001b[K     |████████████████████████████████| 96 kB 1.0 MB/s eta 0:00:01\n",
      "\u001b[?25hCollecting pyee<9.0.0,>=8.1.0\n",
      "  Using cached pyee-8.2.2-py2.py3-none-any.whl (12 kB)\n",
      "Collecting appdirs<2.0.0,>=1.4.3\n",
      "  Downloading appdirs-1.4.4-py2.py3-none-any.whl (9.6 kB)\n",
      "Requirement already satisfied: tqdm<5.0.0,>=4.42.1 in /Library/Frameworks/Python.framework/Versions/3.9/lib/python3.9/site-packages (from pyppeteer>=0.0.14->requests-html->yahoo_fin) (4.62.3)\n",
      "Collecting importlib-metadata>=1.4\n",
      "  Downloading importlib_metadata-4.11.3-py3-none-any.whl (18 kB)\n",
      "Collecting zipp>=0.5\n",
      "  Downloading zipp-3.8.0-py3-none-any.whl (5.4 kB)\n",
      "Collecting beautifulsoup4\n",
      "  Downloading beautifulsoup4-4.11.1-py3-none-any.whl (128 kB)\n",
      "\u001b[K     |████████████████████████████████| 128 kB 291 kB/s eta 0:00:01\n",
      "\u001b[?25hCollecting soupsieve>1.2\n",
      "  Downloading soupsieve-2.3.2-py3-none-any.whl (37 kB)\n",
      "Requirement already satisfied: lxml>=2.1 in /Library/Frameworks/Python.framework/Versions/3.9/lib/python3.9/site-packages (from pyquery->requests-html->yahoo_fin) (4.6.3)\n",
      "Requirement already satisfied: cssselect>0.7.9 in /Library/Frameworks/Python.framework/Versions/3.9/lib/python3.9/site-packages (from pyquery->requests-html->yahoo_fin) (1.1.0)\n",
      "Using legacy 'setup.py install' for bs4, since package 'wheel' is not installed.\n",
      "Using legacy 'setup.py install' for fake-useragent, since package 'wheel' is not installed.\n",
      "Using legacy 'setup.py install' for parse, since package 'wheel' is not installed.\n",
      "Using legacy 'setup.py install' for sgmllib3k, since package 'wheel' is not installed.\n",
      "Installing collected packages: zipp, soupsieve, websockets, pyee, importlib-metadata, beautifulsoup4, appdirs, sgmllib3k, pyquery, pyppeteer, parse, fake-useragent, bs4, requests-html, feedparser, yahoo-fin\n",
      "    Running setup.py install for sgmllib3k ... \u001b[?25ldone\n",
      "\u001b[?25h    Running setup.py install for parse ... \u001b[?25ldone\n",
      "\u001b[?25h    Running setup.py install for fake-useragent ... \u001b[?25ldone\n",
      "\u001b[?25h    Running setup.py install for bs4 ... \u001b[?25ldone\n",
      "\u001b[?25hSuccessfully installed appdirs-1.4.4 beautifulsoup4-4.11.1 bs4-0.0.1 fake-useragent-0.1.11 feedparser-6.0.8 importlib-metadata-4.11.3 parse-1.19.0 pyee-8.2.2 pyppeteer-1.0.2 pyquery-1.4.3 requests-html-0.10.0 sgmllib3k-1.0.0 soupsieve-2.3.2 websockets-10.2 yahoo-fin-0.8.9.1 zipp-3.8.0\n",
      "\u001b[33mWARNING: You are using pip version 21.2.4; however, version 22.0.4 is available.\n",
      "You should consider upgrading via the '/Library/Frameworks/Python.framework/Versions/3.9/bin/python3.9 -m pip install --upgrade pip' command.\u001b[0m\n"
     ]
    }
   ],
   "source": [
    "!pip3 install tabula-py &> /dev/null\n",
    "!pip3 install tabulate &> /dev/null\n",
    "!pip3 install pdfplumber &> /dev/null\n",
    "!pip3 install camelot-py &> /dev/null\n",
    "!pip3 install yahoo_fin"
   ]
  },
  {
   "cell_type": "code",
   "execution_count": 7,
   "metadata": {},
   "outputs": [],
   "source": [
    "\n",
    "import requests\n",
    "import numpy as np\n",
    "import pandas as pd\n",
    "import pdfplumber\n",
    "from io import BytesIO\n",
    "import re\n",
    "from IPython.display import display, HTML\n",
    "import yahoo_fin.stock_info as si"
   ]
  },
  {
   "cell_type": "code",
   "execution_count": 8,
   "metadata": {},
   "outputs": [],
   "source": [
    "\"\"\"\n",
    "Read SMIC quarterly management reports and \n",
    "extract revenue by technology, revenue by platform,\n",
    "revenue by geography, and capex.\n",
    "\"\"\"\n",
    "def parse_smic(url):\n",
    "    rq = requests.get(url)\n",
    "    pdf = pdfplumber.open(BytesIO(rq.content))\n",
    "    smic_text = \"\"\n",
    "    for i in range(10):\n",
    "        #try-catch here\n",
    "        smic_text += pdf.pages[i].extract_text()\n",
    "    tech_df = clean_smic_tech_robust(umc_text)\n",
    "    segment_df = clean_smic_seg(umc_text)\n",
    "    geo_df = clean_umc_geo(umc_text)\n",
    "    capex_df = \"INSERT CAPEX INFO HERE\"\n",
    "    return {'tech': tech_df, 'segment': segment_df, 'geo': geo_df, 'capex' : capex_df}"
   ]
  },
  {
   "cell_type": "code",
   "execution_count": 9,
   "metadata": {},
   "outputs": [],
   "source": [
    "url = \"https://smic.shwebspace.com/uploads/qe/201101271723318_en.pdf\""
   ]
  },
  {
   "cell_type": "code",
   "execution_count": 10,
   "metadata": {},
   "outputs": [],
   "source": [
    "rq = requests.get(url)\n",
    "pdf = pdfplumber.open(BytesIO(rq.content))\n",
    "smic_text = \"\"\n",
    "for i in range(10):\n",
    "    #try-catch here\n",
    "    smic_text += pdf.pages[i].extract_text()"
   ]
  },
  {
   "cell_type": "code",
   "execution_count": 24,
   "metadata": {},
   "outputs": [],
   "source": [
    "def clean_smic_tech_robust(smic_text):\n",
    "    digits = \"\\s+(\\dQ\\d+)\\s+(\\dQ\\d+)\\s+(\\dQ\\d+)\"\n",
    "    oldHeader = \"Total\\s+(?:\\\\n)?Wafer\\s+(?:\\\\n)?Revenues\"\n",
    "    try:\n",
    "        techCols = np.asarray(re.findall(f\"(By Technology|{oldHeader}).*?{digits}\", smic_text)[0])\n",
    "    except: \n",
    "        techCols = np.array(\"Tech\")\n",
    "        techCols = np.append(techCols, np.asarray(re.findall(f\"{digits}\", smic_text)[0]))\n",
    "    techArray = []\n",
    "    digit_re = \"\\d+(?:\\.\\d+)(?:\\s+)?(?:n|µ|m)m\"\n",
    "    slash = \"\\d+(?:\\.\\d+)?\\/\\d+(?:\\.\\d+)?\\s+(?:n|µ|m)m\"\n",
    "    above = \"\\d+(?:\\.\\d+)?(?:u|n)m\\s+and\\s+above\"\n",
    "    numbers = \"\\s+(\\d+(?:\\.\\d+)?%)\\s+(\\d+(?:\\.\\d+)?%)\\s+(\\d+(?:\\.\\d+)?%)\"\n",
    "    techRegex = f\"({digit_re}|{slash}|{above}){numbers}\"\n",
    "    for i in re.finditer(techRegex, smic_text):\n",
    "        techArray.append(list(i.groups()))\n",
    "    techDF = pd.DataFrame(techArray, columns=techCols)\n",
    "    firstColName = techDF.columns[0]\n",
    "    print(\"firstColName\")\n",
    "    techDF = techDF.drop_duplicates(subset=firstColName, keep=\"first\")\n",
    "    return techDF\n",
    "    "
   ]
  },
  {
   "cell_type": "code",
   "execution_count": 25,
   "metadata": {},
   "outputs": [
    {
     "name": "stdout",
     "output_type": "stream",
     "text": [
      "firstColName\n"
     ]
    },
    {
     "data": {
      "text/html": [
       "<div>\n",
       "<style scoped>\n",
       "    .dataframe tbody tr th:only-of-type {\n",
       "        vertical-align: middle;\n",
       "    }\n",
       "\n",
       "    .dataframe tbody tr th {\n",
       "        vertical-align: top;\n",
       "    }\n",
       "\n",
       "    .dataframe thead th {\n",
       "        text-align: right;\n",
       "    }\n",
       "</style>\n",
       "<table border=\"1\" class=\"dataframe\">\n",
       "  <thead>\n",
       "    <tr style=\"text-align: right;\">\n",
       "      <th></th>\n",
       "      <th>By Technology</th>\n",
       "      <th>2Q08</th>\n",
       "      <th>1Q08</th>\n",
       "      <th>2Q07</th>\n",
       "    </tr>\n",
       "  </thead>\n",
       "  <tbody>\n",
       "    <tr>\n",
       "      <th>0</th>\n",
       "      <td>0.09mm</td>\n",
       "      <td>18.4%</td>\n",
       "      <td>19.8%</td>\n",
       "      <td>22.0%</td>\n",
       "    </tr>\n",
       "    <tr>\n",
       "      <th>1</th>\n",
       "      <td>0.15mm</td>\n",
       "      <td>2.1%</td>\n",
       "      <td>4.2%</td>\n",
       "      <td>1.2%</td>\n",
       "    </tr>\n",
       "    <tr>\n",
       "      <th>2</th>\n",
       "      <td>0.18mm</td>\n",
       "      <td>37.7%</td>\n",
       "      <td>32.1%</td>\n",
       "      <td>30.8%</td>\n",
       "    </tr>\n",
       "    <tr>\n",
       "      <th>3</th>\n",
       "      <td>0.25mm</td>\n",
       "      <td>0.6%</td>\n",
       "      <td>0.5%</td>\n",
       "      <td>0.7%</td>\n",
       "    </tr>\n",
       "    <tr>\n",
       "      <th>4</th>\n",
       "      <td>0.35mm</td>\n",
       "      <td>18.3%</td>\n",
       "      <td>18.4%</td>\n",
       "      <td>12.3%</td>\n",
       "    </tr>\n",
       "  </tbody>\n",
       "</table>\n",
       "</div>"
      ],
      "text/plain": [
       "  By Technology   2Q08   1Q08   2Q07\n",
       "0        0.09mm  18.4%  19.8%  22.0%\n",
       "1        0.15mm   2.1%   4.2%   1.2%\n",
       "2        0.18mm  37.7%  32.1%  30.8%\n",
       "3        0.25mm   0.6%   0.5%   0.7%\n",
       "4        0.35mm  18.3%  18.4%  12.3%"
      ]
     },
     "execution_count": 25,
     "metadata": {},
     "output_type": "execute_result"
    }
   ],
   "source": [
    "clean_smic_tech_robust(smic_text)"
   ]
  },
  {
   "cell_type": "code",
   "execution_count": null,
   "metadata": {},
   "outputs": [],
   "source": [
    "def clean_smic_geo(smic_text):\n",
    "    umcRegions = []\n",
    "    digits = \"\\s+(\\d+%)\\s+(\\d+%)\\s+(\\d+%)\"\n",
    "    regionCols = np.asarray(re.findall(r\"(Net Revenue by Geography|By Geography)\\s+(\\d+Q\\d+)\\s+(\\d+Q\\d+)\\s+(\\d+Q\\d+)\", tsmc_text)[0])\n",
    "    NorthAm = np.asarray(re.findall(f\"(North America){digits}\", smic_text)[0])\n",
    "    umcRegions.append(NorthAm)\n",
    "    China = np.asarray(re.findall(f\"(China){digits}\", smic_text)[0])\n",
    "    umcRegions.append(China)\n",
    "    try:\n",
    "        EMEA = np.asarray(re.findall(f\"(EMEA){digits}\", smic_text)[0])\n",
    "        umcRegions.append(EMEA)\n",
    "    except IndexError:\n",
    "        pass\n",
    "    try:\n",
    "        europe = np.asarray(re.findall(f\"(Europe){digits}\", tsmc_text)[0])\n",
    "        umcRegions.append(europe)\n",
    "    except IndexError:\n",
    "        pass\n",
    "    try: \n",
    "        APAC = np.asarray(re.findall(f\"(Asia Pacific){digits}\", tsmc_text)[0])\n",
    "        umcRegions.append(APAC)\n",
    "    except IndexError:\n",
    "        pass\n",
    "    Japan = np.asarray(re.findall(f\"(Japan){digits}\", tsmc_text)[0])\n",
    "    umcRegions.append(Japan)\n",
    "    geoDF = pd.DataFrame(umcRegions, columns=regionCols)\n",
    "    return geoDF"
   ]
  }
 ],
 "metadata": {
  "interpreter": {
   "hash": "aee8b7b246df8f9039afb4144a1f6fd8d2ca17a180786b69acc140d282b71a49"
  },
  "kernelspec": {
   "display_name": "Python 3.9.6 64-bit",
   "language": "python",
   "name": "python3"
  },
  "language_info": {
   "codemirror_mode": {
    "name": "ipython",
    "version": 3
   },
   "file_extension": ".py",
   "mimetype": "text/x-python",
   "name": "python",
   "nbconvert_exporter": "python",
   "pygments_lexer": "ipython3",
   "version": "3.9.6"
  },
  "orig_nbformat": 4
 },
 "nbformat": 4,
 "nbformat_minor": 2
}
