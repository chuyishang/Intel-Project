{
 "cells": [
  {
   "cell_type": "code",
   "execution_count": 2,
   "id": "f1ccb3b4",
   "metadata": {},
   "outputs": [
    {
     "name": "stdout",
     "output_type": "stream",
     "text": [
      "Requirement already satisfied: tabula-py in /Users/mirandashen/opt/anaconda3/lib/python3.8/site-packages (from -r requirements.txt (line 1)) (2.3.0)\n",
      "Requirement already satisfied: tabulate in /Users/mirandashen/opt/anaconda3/lib/python3.8/site-packages (from -r requirements.txt (line 2)) (0.8.9)\n",
      "Requirement already satisfied: pdfplumber in /Users/mirandashen/opt/anaconda3/lib/python3.8/site-packages (from -r requirements.txt (line 3)) (0.6.0)\n",
      "Collecting yahoo_fin\n",
      "  Downloading yahoo_fin-0.8.9.1-py3-none-any.whl (10 kB)\n",
      "Requirement already satisfied: prophet in /Users/mirandashen/opt/anaconda3/lib/python3.8/site-packages (from -r requirements.txt (line 5)) (1.0.1)\n",
      "Collecting twder\n",
      "  Downloading twder-0.2.2-py3-none-any.whl (4.5 kB)\n",
      "Requirement already satisfied: Pillow>=8.4 in /Users/mirandashen/opt/anaconda3/lib/python3.8/site-packages (from pdfplumber->-r requirements.txt (line 3)) (9.1.0)\n",
      "Requirement already satisfied: pdfminer.six==20211012 in /Users/mirandashen/opt/anaconda3/lib/python3.8/site-packages (from pdfplumber->-r requirements.txt (line 3)) (20211012)\n",
      "Requirement already satisfied: Wand>=0.6.7 in /Users/mirandashen/opt/anaconda3/lib/python3.8/site-packages (from pdfplumber->-r requirements.txt (line 3)) (0.6.7)\n",
      "Requirement already satisfied: chardet in /Users/mirandashen/opt/anaconda3/lib/python3.8/site-packages (from pdfminer.six==20211012->pdfplumber->-r requirements.txt (line 3)) (4.0.0)\n",
      "Requirement already satisfied: cryptography in /Users/mirandashen/opt/anaconda3/lib/python3.8/site-packages (from pdfminer.six==20211012->pdfplumber->-r requirements.txt (line 3)) (3.4.7)\n",
      "Requirement already satisfied: Cython>=0.22 in /Users/mirandashen/opt/anaconda3/lib/python3.8/site-packages (from prophet->-r requirements.txt (line 5)) (0.29.23)\n",
      "Requirement already satisfied: cmdstanpy==0.9.68 in /Users/mirandashen/opt/anaconda3/lib/python3.8/site-packages (from prophet->-r requirements.txt (line 5)) (0.9.68)\n",
      "Requirement already satisfied: pystan~=2.19.1.1 in /Users/mirandashen/opt/anaconda3/lib/python3.8/site-packages (from prophet->-r requirements.txt (line 5)) (2.19.1.1)\n",
      "Requirement already satisfied: numpy>=1.15.4 in /Users/mirandashen/opt/anaconda3/lib/python3.8/site-packages (from prophet->-r requirements.txt (line 5)) (1.20.1)\n",
      "Requirement already satisfied: pandas>=1.0.4 in /Users/mirandashen/opt/anaconda3/lib/python3.8/site-packages (from prophet->-r requirements.txt (line 5)) (1.2.4)\n",
      "Requirement already satisfied: matplotlib>=2.0.0 in /Users/mirandashen/opt/anaconda3/lib/python3.8/site-packages (from prophet->-r requirements.txt (line 5)) (3.3.4)\n",
      "Requirement already satisfied: LunarCalendar>=0.0.9 in /Users/mirandashen/opt/anaconda3/lib/python3.8/site-packages (from prophet->-r requirements.txt (line 5)) (0.0.9)\n",
      "Requirement already satisfied: convertdate>=2.1.2 in /Users/mirandashen/opt/anaconda3/lib/python3.8/site-packages (from prophet->-r requirements.txt (line 5)) (2.4.0)\n",
      "Requirement already satisfied: holidays>=0.10.2 in /Users/mirandashen/opt/anaconda3/lib/python3.8/site-packages (from prophet->-r requirements.txt (line 5)) (0.13)\n",
      "Requirement already satisfied: setuptools-git>=1.2 in /Users/mirandashen/opt/anaconda3/lib/python3.8/site-packages (from prophet->-r requirements.txt (line 5)) (1.2)\n",
      "Requirement already satisfied: python-dateutil>=2.8.0 in /Users/mirandashen/opt/anaconda3/lib/python3.8/site-packages (from prophet->-r requirements.txt (line 5)) (2.8.1)\n",
      "Requirement already satisfied: tqdm>=4.36.1 in /Users/mirandashen/opt/anaconda3/lib/python3.8/site-packages (from prophet->-r requirements.txt (line 5)) (4.59.0)\n",
      "Requirement already satisfied: ujson in /Users/mirandashen/opt/anaconda3/lib/python3.8/site-packages (from cmdstanpy==0.9.68->prophet->-r requirements.txt (line 5)) (4.0.2)\n",
      "Requirement already satisfied: pymeeus<=1,>=0.3.13 in /Users/mirandashen/opt/anaconda3/lib/python3.8/site-packages (from convertdate>=2.1.2->prophet->-r requirements.txt (line 5)) (0.5.11)\n",
      "Requirement already satisfied: korean-lunar-calendar in /Users/mirandashen/opt/anaconda3/lib/python3.8/site-packages (from holidays>=0.10.2->prophet->-r requirements.txt (line 5)) (0.2.1)\n",
      "Requirement already satisfied: hijri-converter in /Users/mirandashen/opt/anaconda3/lib/python3.8/site-packages (from holidays>=0.10.2->prophet->-r requirements.txt (line 5)) (2.2.3)\n",
      "Requirement already satisfied: pytz in /Users/mirandashen/opt/anaconda3/lib/python3.8/site-packages (from LunarCalendar>=0.0.9->prophet->-r requirements.txt (line 5)) (2021.1)\n",
      "Requirement already satisfied: ephem>=3.7.5.3 in /Users/mirandashen/opt/anaconda3/lib/python3.8/site-packages (from LunarCalendar>=0.0.9->prophet->-r requirements.txt (line 5)) (4.1.3)\n",
      "Requirement already satisfied: kiwisolver>=1.0.1 in /Users/mirandashen/opt/anaconda3/lib/python3.8/site-packages (from matplotlib>=2.0.0->prophet->-r requirements.txt (line 5)) (1.3.1)\n",
      "Requirement already satisfied: cycler>=0.10 in /Users/mirandashen/opt/anaconda3/lib/python3.8/site-packages (from matplotlib>=2.0.0->prophet->-r requirements.txt (line 5)) (0.10.0)\n",
      "Requirement already satisfied: pyparsing!=2.0.4,!=2.1.2,!=2.1.6,>=2.0.3 in /Users/mirandashen/opt/anaconda3/lib/python3.8/site-packages (from matplotlib>=2.0.0->prophet->-r requirements.txt (line 5)) (2.4.7)\n",
      "Requirement already satisfied: six in /Users/mirandashen/opt/anaconda3/lib/python3.8/site-packages (from cycler>=0.10->matplotlib>=2.0.0->prophet->-r requirements.txt (line 5)) (1.15.0)\n",
      "Requirement already satisfied: distro in /Users/mirandashen/opt/anaconda3/lib/python3.8/site-packages (from tabula-py->-r requirements.txt (line 1)) (1.7.0)\n",
      "Requirement already satisfied: lxml in /Users/mirandashen/opt/anaconda3/lib/python3.8/site-packages (from twder->-r requirements.txt (line 6)) (4.6.3)\n",
      "Collecting feedparser\n",
      "  Downloading feedparser-6.0.8-py3-none-any.whl (81 kB)\n",
      "\u001b[K     |████████████████████████████████| 81 kB 6.4 MB/s eta 0:00:011\n",
      "\u001b[?25hRequirement already satisfied: requests in /Users/mirandashen/opt/anaconda3/lib/python3.8/site-packages (from yahoo_fin->-r requirements.txt (line 4)) (2.25.1)\n",
      "Collecting requests-html\n",
      "  Downloading requests_html-0.10.0-py3-none-any.whl (13 kB)\n",
      "Requirement already satisfied: cffi>=1.12 in /Users/mirandashen/opt/anaconda3/lib/python3.8/site-packages (from cryptography->pdfminer.six==20211012->pdfplumber->-r requirements.txt (line 3)) (1.14.5)\n",
      "Requirement already satisfied: pycparser in /Users/mirandashen/opt/anaconda3/lib/python3.8/site-packages (from cffi>=1.12->cryptography->pdfminer.six==20211012->pdfplumber->-r requirements.txt (line 3)) (2.20)\n",
      "Collecting sgmllib3k\n",
      "  Downloading sgmllib3k-1.0.0.tar.gz (5.8 kB)\n",
      "Requirement already satisfied: urllib3<1.27,>=1.21.1 in /Users/mirandashen/opt/anaconda3/lib/python3.8/site-packages (from requests->yahoo_fin->-r requirements.txt (line 4)) (1.26.4)\n",
      "Requirement already satisfied: idna<3,>=2.5 in /Users/mirandashen/opt/anaconda3/lib/python3.8/site-packages (from requests->yahoo_fin->-r requirements.txt (line 4)) (2.10)\n",
      "Requirement already satisfied: certifi>=2017.4.17 in /Users/mirandashen/opt/anaconda3/lib/python3.8/site-packages (from requests->yahoo_fin->-r requirements.txt (line 4)) (2020.12.5)\n",
      "Collecting pyppeteer>=0.0.14\n",
      "  Downloading pyppeteer-1.0.2-py3-none-any.whl (83 kB)\n",
      "\u001b[K     |████████████████████████████████| 83 kB 4.7 MB/s  eta 0:00:01\n",
      "\u001b[?25hCollecting parse\n",
      "  Downloading parse-1.19.0.tar.gz (30 kB)\n",
      "Collecting pyquery\n",
      "  Downloading pyquery-1.4.3-py3-none-any.whl (22 kB)\n",
      "Collecting w3lib\n",
      "  Downloading w3lib-1.22.0-py2.py3-none-any.whl (20 kB)\n",
      "Collecting bs4\n",
      "  Downloading bs4-0.0.1.tar.gz (1.1 kB)\n",
      "Collecting fake-useragent\n",
      "  Downloading fake-useragent-0.1.11.tar.gz (13 kB)\n",
      "Requirement already satisfied: appdirs<2.0.0,>=1.4.3 in /Users/mirandashen/opt/anaconda3/lib/python3.8/site-packages (from pyppeteer>=0.0.14->requests-html->yahoo_fin->-r requirements.txt (line 4)) (1.4.4)\n",
      "Requirement already satisfied: importlib-metadata>=1.4 in /Users/mirandashen/opt/anaconda3/lib/python3.8/site-packages (from pyppeteer>=0.0.14->requests-html->yahoo_fin->-r requirements.txt (line 4)) (3.10.0)\n",
      "Collecting websockets<11.0,>=10.0\n",
      "  Downloading websockets-10.3-cp38-cp38-macosx_10_9_x86_64.whl (97 kB)\n",
      "\u001b[K     |████████████████████████████████| 97 kB 14.8 MB/s eta 0:00:01\n"
     ]
    },
    {
     "name": "stdout",
     "output_type": "stream",
     "text": [
      "\u001b[?25hCollecting certifi>=2017.4.17\n",
      "  Downloading certifi-2021.10.8-py2.py3-none-any.whl (149 kB)\n",
      "\u001b[K     |████████████████████████████████| 149 kB 36.4 MB/s eta 0:00:01\n",
      "\u001b[?25hCollecting pyee<9.0.0,>=8.1.0\n",
      "  Downloading pyee-8.2.2-py2.py3-none-any.whl (12 kB)\n",
      "Requirement already satisfied: zipp>=0.5 in /Users/mirandashen/opt/anaconda3/lib/python3.8/site-packages (from importlib-metadata>=1.4->pyppeteer>=0.0.14->requests-html->yahoo_fin->-r requirements.txt (line 4)) (3.4.1)\n",
      "Requirement already satisfied: beautifulsoup4 in /Users/mirandashen/opt/anaconda3/lib/python3.8/site-packages (from bs4->requests-html->yahoo_fin->-r requirements.txt (line 4)) (4.9.3)\n",
      "Requirement already satisfied: soupsieve>1.2 in /Users/mirandashen/opt/anaconda3/lib/python3.8/site-packages (from beautifulsoup4->bs4->requests-html->yahoo_fin->-r requirements.txt (line 4)) (2.2.1)\n",
      "Collecting cssselect>0.7.9\n",
      "  Downloading cssselect-1.1.0-py2.py3-none-any.whl (16 kB)\n",
      "Building wheels for collected packages: bs4, fake-useragent, parse, sgmllib3k\n",
      "  Building wheel for bs4 (setup.py) ... \u001b[?25ldone\n",
      "\u001b[?25h  Created wheel for bs4: filename=bs4-0.0.1-py3-none-any.whl size=1273 sha256=b2499b6777a9f9de6f065e245796aed1407fe185841edc27d2c8d36066c43311\n",
      "  Stored in directory: /Users/mirandashen/Library/Caches/pip/wheels/75/78/21/68b124549c9bdc94f822c02fb9aa3578a669843f9767776bca\n",
      "  Building wheel for fake-useragent (setup.py) ... \u001b[?25ldone\n",
      "\u001b[?25h  Created wheel for fake-useragent: filename=fake_useragent-0.1.11-py3-none-any.whl size=13486 sha256=12fe0d8ad643dbb27286279a82639bbc9543ae3a54cc073936842a6216a26bd6\n",
      "  Stored in directory: /Users/mirandashen/Library/Caches/pip/wheels/a0/b8/b7/8c942b2c5be5158b874a88195116b05ad124bac795f6665e65\n",
      "  Building wheel for parse (setup.py) ... \u001b[?25ldone\n",
      "\u001b[?25h  Created wheel for parse: filename=parse-1.19.0-py3-none-any.whl size=24581 sha256=6b76f26cb16b76db94a3a16ce9e7ba1ee1266a3de7579d616ecd23ebb05c6ac1\n",
      "  Stored in directory: /Users/mirandashen/Library/Caches/pip/wheels/e5/33/1f/68392720485b3ecf125a69e700baaab7624616deedea2fa6e2\n",
      "  Building wheel for sgmllib3k (setup.py) ... \u001b[?25ldone\n",
      "\u001b[?25h  Created wheel for sgmllib3k: filename=sgmllib3k-1.0.0-py3-none-any.whl size=6065 sha256=186511d4fb41598f9afb69aca907475370e2c137bd2e92c84b5fc6f920d5ffb7\n",
      "  Stored in directory: /Users/mirandashen/Library/Caches/pip/wheels/83/63/2f/117884c3b19d46b64d3d61690333aa80c88dc14050e269c546\n",
      "Successfully built bs4 fake-useragent parse sgmllib3k\n",
      "Installing collected packages: websockets, pyee, cssselect, certifi, w3lib, sgmllib3k, pyquery, pyppeteer, parse, fake-useragent, bs4, requests-html, feedparser, yahoo-fin, twder\n",
      "  Attempting uninstall: certifi\n",
      "    Found existing installation: certifi 2020.12.5\n",
      "    Uninstalling certifi-2020.12.5:\n",
      "      Successfully uninstalled certifi-2020.12.5\n",
      "\u001b[31mERROR: pip's dependency resolver does not currently take into account all the packages that are installed. This behaviour is the source of the following dependency conflicts.\n",
      "conda-repo-cli 1.0.4 requires pathlib, which is not installed.\n",
      "anaconda-project 0.9.1 requires ruamel-yaml, which is not installed.\u001b[0m\n",
      "Successfully installed bs4-0.0.1 certifi-2021.10.8 cssselect-1.1.0 fake-useragent-0.1.11 feedparser-6.0.8 parse-1.19.0 pyee-8.2.2 pyppeteer-1.0.2 pyquery-1.4.3 requests-html-0.10.0 sgmllib3k-1.0.0 twder-0.2.2 w3lib-1.22.0 websockets-10.3 yahoo-fin-0.8.9.1\n"
     ]
    }
   ],
   "source": [
    "!pip install -r requirements.txt"
   ]
  },
  {
   "cell_type": "code",
   "execution_count": 3,
   "id": "bcde0e37",
   "metadata": {
    "scrolled": true
   },
   "outputs": [
    {
     "name": "stdout",
     "output_type": "stream",
     "text": [
      "1.281070098205215\n"
     ]
    }
   ],
   "source": [
    "import stocks"
   ]
  },
  {
   "cell_type": "code",
   "execution_count": null,
   "id": "5e7c686a",
   "metadata": {},
   "outputs": [],
   "source": []
  }
 ],
 "metadata": {
  "kernelspec": {
   "display_name": "Python 3",
   "language": "python",
   "name": "python3"
  },
  "language_info": {
   "codemirror_mode": {
    "name": "ipython",
    "version": 3
   },
   "file_extension": ".py",
   "mimetype": "text/x-python",
   "name": "python",
   "nbconvert_exporter": "python",
   "pygments_lexer": "ipython3",
   "version": "3.8.8"
  }
 },
 "nbformat": 4,
 "nbformat_minor": 5
}
